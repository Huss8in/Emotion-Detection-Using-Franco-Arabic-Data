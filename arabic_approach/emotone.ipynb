{
  "cells": [
    {
      "cell_type": "markdown",
      "metadata": {
        "id": "dIZNmqtjlBWa"
      },
      "source": [
        "## Imports\n"
      ]
    },
    {
      "cell_type": "code",
      "execution_count": 280,
      "metadata": {
        "colab": {
          "base_uri": "https://localhost:8080/"
        },
        "id": "SpLPLfw0lDtz",
        "outputId": "b80212ff-ff4b-4ffc-d9a3-2b9b3945308c"
      },
      "outputs": [
        {
          "name": "stderr",
          "output_type": "stream",
          "text": [
            "[nltk_data] Downloading package punkt to\n",
            "[nltk_data]     C:\\Users\\husse\\AppData\\Roaming\\nltk_data...\n",
            "[nltk_data]   Package punkt is already up-to-date!\n",
            "[nltk_data] Downloading package stopwords to\n",
            "[nltk_data]     C:\\Users\\husse\\AppData\\Roaming\\nltk_data...\n",
            "[nltk_data]   Package stopwords is already up-to-date!\n"
          ]
        }
      ],
      "source": [
        "import re\n",
        "import string\n",
        "import numpy as np\n",
        "import pandas as pd\n",
        "import seaborn as sns\n",
        "from matplotlib import pyplot as plt\n",
        "from collections import Counter\n",
        "\n",
        "from gensim.models import FastText\n",
        "\n",
        "import nltk\n",
        "nltk.download('punkt')\n",
        "nltk.download('stopwords')\n",
        "from nltk.corpus import stopwords\n",
        "from nltk.tokenize import word_tokenize\n",
        "from nltk.tokenize import word_tokenize\n",
        "from nltk.tokenize import WhitespaceTokenizer\n",
        "from sklearn.metrics import accuracy_score, classification_report\n",
        "\n",
        "import torch\n",
        "from transformers import AutoTokenizer, AutoModel\n",
        "from transformers import RobertaModel, RobertaTokenizer\n",
        "from concurrent.futures import ProcessPoolExecutor\n",
        "\n",
        "\n",
        "# sklearn\n",
        "from sklearn.model_selection import train_test_split\n",
        "from sklearn.preprocessing import LabelEncoder\n",
        "from sklearn.model_selection import train_test_split\n",
        "from sklearn.preprocessing import LabelEncoder\n",
        "from sklearn.metrics import classification_report\n",
        "\n",
        "# keras\n",
        "from keras.preprocessing.text import Tokenizer\n",
        "from keras.preprocessing.sequence import pad_sequences\n",
        "from keras.models import Sequential\n",
        "from keras.layers import Embedding, Bidirectional, LSTM, Dense, Conv1D, GlobalMaxPooling1D, Embedding, Flatten\n",
        "from keras.utils import to_categorical\n",
        "from keras.layers import Dropout\n",
        "\n",
        "# Ignore all warnings\n",
        "import warnings\n",
        "warnings.filterwarnings(\"ignore\")"
      ]
    },
    {
      "cell_type": "code",
      "execution_count": 281,
      "metadata": {
        "id": "m1wIkK_LZlpM"
      },
      "outputs": [
        {
          "data": {
            "text/html": [
              "<div>\n",
              "<style scoped>\n",
              "    .dataframe tbody tr th:only-of-type {\n",
              "        vertical-align: middle;\n",
              "    }\n",
              "\n",
              "    .dataframe tbody tr th {\n",
              "        vertical-align: top;\n",
              "    }\n",
              "\n",
              "    .dataframe thead th {\n",
              "        text-align: right;\n",
              "    }\n",
              "</style>\n",
              "<table border=\"1\" class=\"dataframe\">\n",
              "  <thead>\n",
              "    <tr style=\"text-align: right;\">\n",
              "      <th></th>\n",
              "      <th>text</th>\n",
              "      <th>emotion</th>\n",
              "    </tr>\n",
              "  </thead>\n",
              "  <tbody>\n",
              "    <tr>\n",
              "      <th>0</th>\n",
              "      <td>الاوليمبياد الجايه هكون لسه ف الكليه ..</td>\n",
              "      <td>none</td>\n",
              "    </tr>\n",
              "    <tr>\n",
              "      <th>1</th>\n",
              "      <td>عجز الموازنه وصل ل93.7 % من الناتج المحلي يعني...</td>\n",
              "      <td>anger</td>\n",
              "    </tr>\n",
              "    <tr>\n",
              "      <th>2</th>\n",
              "      <td>كتنا نيله ف حظنا الهباب xD</td>\n",
              "      <td>sadness</td>\n",
              "    </tr>\n",
              "    <tr>\n",
              "      <th>3</th>\n",
              "      <td>جميعنا نريد تحقيق اهدافنا لكن تونس تالقت في حر...</td>\n",
              "      <td>joy</td>\n",
              "    </tr>\n",
              "    <tr>\n",
              "      <th>4</th>\n",
              "      <td>الاوليمبياد نظامها مختلف .. ومواعيد المونديال ...</td>\n",
              "      <td>none</td>\n",
              "    </tr>\n",
              "    <tr>\n",
              "      <th>...</th>\n",
              "      <td>...</td>\n",
              "      <td>...</td>\n",
              "    </tr>\n",
              "    <tr>\n",
              "      <th>995</th>\n",
              "      <td>الي الكنترول انهارده اخر يوم حرام علي امك بقي ...</td>\n",
              "      <td>anger</td>\n",
              "    </tr>\n",
              "    <tr>\n",
              "      <th>996</th>\n",
              "      <td>انا مش عارفه بعد ما الاوليمبياد تخلص هقعد اعمل...</td>\n",
              "      <td>fear</td>\n",
              "    </tr>\n",
              "    <tr>\n",
              "      <th>997</th>\n",
              "      <td>مُش معقول!!</td>\n",
              "      <td>surprise</td>\n",
              "    </tr>\n",
              "    <tr>\n",
              "      <th>998</th>\n",
              "      <td>انا هنتحر</td>\n",
              "      <td>sadness</td>\n",
              "    </tr>\n",
              "    <tr>\n",
              "      <th>999</th>\n",
              "      <td>صوتك حلو لا تذبح الشوق بالصمّت احب صوتك لا غدا...</td>\n",
              "      <td>love</td>\n",
              "    </tr>\n",
              "  </tbody>\n",
              "</table>\n",
              "<p>1000 rows × 2 columns</p>\n",
              "</div>"
            ],
            "text/plain": [
              "                                                  text   emotion\n",
              "0              الاوليمبياد الجايه هكون لسه ف الكليه ..      none\n",
              "1    عجز الموازنه وصل ل93.7 % من الناتج المحلي يعني...     anger\n",
              "2                           كتنا نيله ف حظنا الهباب xD   sadness\n",
              "3    جميعنا نريد تحقيق اهدافنا لكن تونس تالقت في حر...       joy\n",
              "4    الاوليمبياد نظامها مختلف .. ومواعيد المونديال ...      none\n",
              "..                                                 ...       ...\n",
              "995  الي الكنترول انهارده اخر يوم حرام علي امك بقي ...     anger\n",
              "996  انا مش عارفه بعد ما الاوليمبياد تخلص هقعد اعمل...      fear\n",
              "997                                        مُش معقول!!  surprise\n",
              "998                                          انا هنتحر   sadness\n",
              "999  صوتك حلو لا تذبح الشوق بالصمّت احب صوتك لا غدا...      love\n",
              "\n",
              "[1000 rows x 2 columns]"
            ]
          },
          "execution_count": 281,
          "metadata": {},
          "output_type": "execute_result"
        }
      ],
      "source": [
        "df = pd.read_csv('Emotional-Tone-Dataset.csv').head(1000)\n",
        "df = df.drop('ID', axis=1)\n",
        "df.columns = ['text', 'emotion']\n",
        "df"
      ]
    },
    {
      "cell_type": "code",
      "execution_count": 282,
      "metadata": {},
      "outputs": [],
      "source": [
        "# # to tae equaly from each class\n",
        "# rows_per_class = 200\n",
        "# result = df.groupby('emotion').head(rows_per_class)\n",
        "\n",
        "# df = result.copy()\n",
        "# df = df.reset_index(drop=True)\n",
        "\n",
        "# df"
      ]
    },
    {
      "cell_type": "code",
      "execution_count": 283,
      "metadata": {},
      "outputs": [
        {
          "data": {
            "text/plain": [
              "array(['none', 'anger', 'sadness', 'joy', 'surprise', 'love', 'sympathy',\n",
              "       'fear'], dtype=object)"
            ]
          },
          "execution_count": 283,
          "metadata": {},
          "output_type": "execute_result"
        }
      ],
      "source": [
        "df['emotion'].unique()"
      ]
    },
    {
      "cell_type": "code",
      "execution_count": 284,
      "metadata": {},
      "outputs": [
        {
          "name": "stdout",
          "output_type": "stream",
          "text": [
            "none: Count = 154 -----------------> Percentage = 15.40%\n",
            "anger: Count = 141 -----------------> Percentage = 14.10%\n",
            "love: Count = 140 -----------------> Percentage = 14.00%\n",
            "sadness: Count = 126 -----------------> Percentage = 12.60%\n",
            "joy: Count = 122 -----------------> Percentage = 12.20%\n",
            "fear: Count = 108 -----------------> Percentage = 10.80%\n",
            "surprise: Count = 106 -----------------> Percentage = 10.60%\n",
            "sympathy: Count = 103 -----------------> Percentage = 10.30%\n",
            "df shape : (1000, 2)\n"
          ]
        }
      ],
      "source": [
        "emotion_counts = df['emotion'].value_counts()\n",
        "total_samples = len(df)\n",
        "\n",
        "for emotion, count in emotion_counts.items():\n",
        "    percentage = (count / total_samples) * 100\n",
        "    print(f\"{emotion}: Count = {count} -----------------> Percentage = {percentage:.2f}%\")\n",
        "print(\"df shape :\",f\"{df.shape}\")\n",
        "    "
      ]
    },
    {
      "cell_type": "code",
      "execution_count": 285,
      "metadata": {},
      "outputs": [
        {
          "data": {
            "text/plain": [
              "<Axes: title={'center': 'Count of each emotion'}>"
            ]
          },
          "execution_count": 285,
          "metadata": {},
          "output_type": "execute_result"
        },
        {
          "data": {
            "image/png": "[encoded data removed]",
            "text/plain": [
              "<Figure size 1000x500 with 1 Axes>"
            ]
          },
          "metadata": {},
          "output_type": "display_data"
        }
      ],
      "source": [
        "df['emotion'].value_counts().sort_index().plot(kind='bar', title='Count of each emotion', figsize=(10,5),color=sns.palettes.mpl_palette('Dark2'))"
      ]
    },
    {
      "cell_type": "markdown",
      "metadata": {
        "id": "htV84DzylG0j"
      },
      "source": [
        "## a) Step 1 : Preprocessing\n",
        "\n"
      ]
    },
    {
      "cell_type": "code",
      "execution_count": 286,
      "metadata": {
        "colab": {
          "base_uri": "https://localhost:8080/",
          "height": 423
        },
        "id": "p6TenIkgwlsJ",
        "outputId": "61562ab4-44af-4d75-bb1e-cbe7055f1873"
      },
      "outputs": [
        {
          "data": {
            "text/html": [
              "<div>\n",
              "<style scoped>\n",
              "    .dataframe tbody tr th:only-of-type {\n",
              "        vertical-align: middle;\n",
              "    }\n",
              "\n",
              "    .dataframe tbody tr th {\n",
              "        vertical-align: top;\n",
              "    }\n",
              "\n",
              "    .dataframe thead th {\n",
              "        text-align: right;\n",
              "    }\n",
              "</style>\n",
              "<table border=\"1\" class=\"dataframe\">\n",
              "  <thead>\n",
              "    <tr style=\"text-align: right;\">\n",
              "      <th></th>\n",
              "      <th>text</th>\n",
              "      <th>emotion</th>\n",
              "      <th>cleanedText</th>\n",
              "    </tr>\n",
              "  </thead>\n",
              "  <tbody>\n",
              "    <tr>\n",
              "      <th>0</th>\n",
              "      <td>الاوليمبياد الجايه هكون لسه ف الكليه ..</td>\n",
              "      <td>none</td>\n",
              "      <td>الاوليمبياد الجايه هكون لسه الكليه</td>\n",
              "    </tr>\n",
              "    <tr>\n",
              "      <th>1</th>\n",
              "      <td>عجز الموازنه وصل ل93.7 % من الناتج المحلي يعني...</td>\n",
              "      <td>anger</td>\n",
              "      <td>عجز الموازنه وصل الناتج المحلي يعني لسه اقل نف...</td>\n",
              "    </tr>\n",
              "    <tr>\n",
              "      <th>2</th>\n",
              "      <td>كتنا نيله ف حظنا الهباب xD</td>\n",
              "      <td>sadness</td>\n",
              "      <td>كتنا نيله حظنا الهباب</td>\n",
              "    </tr>\n",
              "    <tr>\n",
              "      <th>3</th>\n",
              "      <td>جميعنا نريد تحقيق اهدافنا لكن تونس تالقت في حر...</td>\n",
              "      <td>joy</td>\n",
              "      <td>جميعنا نريد تحقيق اهدافنا تونس تالقت حراسه المرمي</td>\n",
              "    </tr>\n",
              "    <tr>\n",
              "      <th>4</th>\n",
              "      <td>الاوليمبياد نظامها مختلف .. ومواعيد المونديال ...</td>\n",
              "      <td>none</td>\n",
              "      <td>الاوليمبياد نظامها مختلف ومواعيد المونديال مكا...</td>\n",
              "    </tr>\n",
              "    <tr>\n",
              "      <th>...</th>\n",
              "      <td>...</td>\n",
              "      <td>...</td>\n",
              "      <td>...</td>\n",
              "    </tr>\n",
              "    <tr>\n",
              "      <th>995</th>\n",
              "      <td>الي الكنترول انهارده اخر يوم حرام علي امك بقي ...</td>\n",
              "      <td>anger</td>\n",
              "      <td>الي الكنترول انهارده اخر يوم حرام علي امك بقي ...</td>\n",
              "    </tr>\n",
              "    <tr>\n",
              "      <th>996</th>\n",
              "      <td>انا مش عارفه بعد ما الاوليمبياد تخلص هقعد اعمل...</td>\n",
              "      <td>fear</td>\n",
              "      <td>انا مش عارفه الاوليمبياد تخلص هقعد اعمل ايه اح...</td>\n",
              "    </tr>\n",
              "    <tr>\n",
              "      <th>997</th>\n",
              "      <td>مُش معقول!!</td>\n",
              "      <td>surprise</td>\n",
              "      <td>مش معقول</td>\n",
              "    </tr>\n",
              "    <tr>\n",
              "      <th>998</th>\n",
              "      <td>انا هنتحر</td>\n",
              "      <td>sadness</td>\n",
              "      <td>انا هنتحر</td>\n",
              "    </tr>\n",
              "    <tr>\n",
              "      <th>999</th>\n",
              "      <td>صوتك حلو لا تذبح الشوق بالصمّت احب صوتك لا غدا...</td>\n",
              "      <td>love</td>\n",
              "      <td>صوتك حلو تذبح الشوق بالصمت احب صوتك بحه</td>\n",
              "    </tr>\n",
              "  </tbody>\n",
              "</table>\n",
              "<p>1000 rows × 3 columns</p>\n",
              "</div>"
            ],
            "text/plain": [
              "                                                  text   emotion  \\\n",
              "0              الاوليمبياد الجايه هكون لسه ف الكليه ..      none   \n",
              "1    عجز الموازنه وصل ل93.7 % من الناتج المحلي يعني...     anger   \n",
              "2                           كتنا نيله ف حظنا الهباب xD   sadness   \n",
              "3    جميعنا نريد تحقيق اهدافنا لكن تونس تالقت في حر...       joy   \n",
              "4    الاوليمبياد نظامها مختلف .. ومواعيد المونديال ...      none   \n",
              "..                                                 ...       ...   \n",
              "995  الي الكنترول انهارده اخر يوم حرام علي امك بقي ...     anger   \n",
              "996  انا مش عارفه بعد ما الاوليمبياد تخلص هقعد اعمل...      fear   \n",
              "997                                        مُش معقول!!  surprise   \n",
              "998                                          انا هنتحر   sadness   \n",
              "999  صوتك حلو لا تذبح الشوق بالصمّت احب صوتك لا غدا...      love   \n",
              "\n",
              "                                           cleanedText  \n",
              "0                   الاوليمبياد الجايه هكون لسه الكليه  \n",
              "1    عجز الموازنه وصل الناتج المحلي يعني لسه اقل نف...  \n",
              "2                                كتنا نيله حظنا الهباب  \n",
              "3    جميعنا نريد تحقيق اهدافنا تونس تالقت حراسه المرمي  \n",
              "4    الاوليمبياد نظامها مختلف ومواعيد المونديال مكا...  \n",
              "..                                                 ...  \n",
              "995  الي الكنترول انهارده اخر يوم حرام علي امك بقي ...  \n",
              "996  انا مش عارفه الاوليمبياد تخلص هقعد اعمل ايه اح...  \n",
              "997                                           مش معقول  \n",
              "998                                          انا هنتحر  \n",
              "999            صوتك حلو تذبح الشوق بالصمت احب صوتك بحه  \n",
              "\n",
              "[1000 rows x 3 columns]"
            ]
          },
          "execution_count": 286,
          "metadata": {},
          "output_type": "execute_result"
        }
      ],
      "source": [
        "# List of Arabic stopwords\n",
        "arabic_stopwords = stopwords.words('arabic')\n",
        "\n",
        "def clean_text(text):\n",
        "    # Remove any non Arabic unicode\n",
        "    text = re.sub(r'[^\\u0600-\\u06FF\\s]+', ' ', text)\n",
        "    # Remove username \"@handle\" from text\n",
        "    text = re.sub(r'@\\w+', '', text)\n",
        "    # Remove URL from text\n",
        "    text = re.sub(r'http\\S+', '', text)\n",
        "    # Remove punctuation, emoji, and smileys from text\n",
        "    text = re.sub(r'(?<=\\w)[^\\s\\w](?![^\\s\\w])', '', text)\n",
        "    # Remove escape codes like \\n, \\t, \\, etc from text\n",
        "    text = re.sub(r'(\\n|\\t|\\\"|\\')', '', text)\n",
        "    # Remove Arabic Diacritization (tashkeel) like fatha, damma, kasra, shaddah, ...\n",
        "    text = re.sub(r'[\\u064B-\\u0652]', '', text)\n",
        "    # Removing Digits\n",
        "    text = re.sub(r'\\d', '', text)\n",
        "\n",
        "\n",
        "    # Tokenize the text\n",
        "    words = word_tokenize(text)\n",
        "    # Remove Arabic stopwords\n",
        "    words = [word for word in words if word not in arabic_stopwords]\n",
        "\n",
        "    words = ' '.join(words)\n",
        "    return words\n",
        "\n",
        "# Apply the clean_and_tokenize function to the 'text' column\n",
        "df['cleanedText'] = df['text'].apply(clean_text)\n",
        "df\n"
      ]
    },
    {
      "cell_type": "code",
      "execution_count": 287,
      "metadata": {},
      "outputs": [
        {
          "name": "stdout",
          "output_type": "stream",
          "text": [
            "مرحبا حالك اليوم ؟\n"
          ]
        }
      ],
      "source": [
        "sample_text = \"مرحبًا! @username Check out this link: http://example.com. كيف حالك اليوم ؟ 🌟\"\n",
        "result = clean_text(sample_text)\n",
        "print(result)"
      ]
    },
    {
      "cell_type": "code",
      "execution_count": 288,
      "metadata": {},
      "outputs": [
        {
          "name": "stdout",
          "output_type": "stream",
          "text": [
            "[(' ', 10210), ('ا', 9493), ('ل', 5827), ('ي', 5145), ('م', 3288), ('و', 3023), ('ه', 2967), ('ن', 2660), ('ب', 2630), ('ر', 2484)]\n"
          ]
        }
      ],
      "source": [
        "all_words = [word for sublist in df['cleanedText'] for word in sublist]\n",
        "word_counts = Counter(all_words)\n",
        "most_common_words = word_counts.most_common(10)  # Change 10 to the desired number of words\n",
        "print(most_common_words)"
      ]
    },
    {
      "cell_type": "markdown",
      "metadata": {
        "id": "rti9YzwWlb-F"
      },
      "source": [
        "## b) Step 2: The usage of Word Embedding\n",
        "+ AraBERT\n"
      ]
    },
    {
      "attachments": {
        "image.png": {
          "image/png": "[encoded data removed]"
        }
      },
      "cell_type": "markdown",
      "metadata": {},
      "source": [
        "![image.png](attachment:image.png)"
      ]
    },
    {
      "cell_type": "code",
      "execution_count": 2,
      "metadata": {},
      "outputs": [],
      "source": [
        "model_name = \"aubmindlab/bert-base-arabertv02\"\n",
        "AraBERT_tokenizer = AutoTokenizer.from_pretrained(model_name, output_hidden_states=True)\n",
        "AraBERT_model = AutoModel.from_pretrained(model_name)"
      ]
    },
    {
      "cell_type": "code",
      "execution_count": 292,
      "metadata": {},
      "outputs": [],
      "source": [
        "def get_arabert_embedding(text):\n",
        "    # Tokenize the text\n",
        "    tokens = AraBERT_tokenizer(text, return_tensors='pt', truncation=True, padding=True)\n",
        "    # Get the model output\n",
        "    with torch.no_grad():\n",
        "        model_output = AraBERT_model(**tokens)\n",
        "    # Return the embeddings for the [CLS] token\n",
        "    return model_output.last_hidden_state[:, 0, :].numpy()"
      ]
    },
    {
      "cell_type": "code",
      "execution_count": 293,
      "metadata": {},
      "outputs": [],
      "source": [
        "# Apply the get_arabert_embedding function to the 'cleanedText' column\n",
        "df['arabert_embedding'] = df['cleanedText'].apply(get_arabert_embedding)"
      ]
    },
    {
      "cell_type": "code",
      "execution_count": 294,
      "metadata": {},
      "outputs": [
        {
          "data": {
            "text/html": [
              "<div>\n",
              "<style scoped>\n",
              "    .dataframe tbody tr th:only-of-type {\n",
              "        vertical-align: middle;\n",
              "    }\n",
              "\n",
              "    .dataframe tbody tr th {\n",
              "        vertical-align: top;\n",
              "    }\n",
              "\n",
              "    .dataframe thead th {\n",
              "        text-align: right;\n",
              "    }\n",
              "</style>\n",
              "<table border=\"1\" class=\"dataframe\">\n",
              "  <thead>\n",
              "    <tr style=\"text-align: right;\">\n",
              "      <th></th>\n",
              "      <th>text</th>\n",
              "      <th>emotion</th>\n",
              "      <th>cleanedText</th>\n",
              "      <th>arabert_embedding</th>\n",
              "    </tr>\n",
              "  </thead>\n",
              "  <tbody>\n",
              "    <tr>\n",
              "      <th>0</th>\n",
              "      <td>الاوليمبياد الجايه هكون لسه ف الكليه ..</td>\n",
              "      <td>none</td>\n",
              "      <td>الاوليمبياد الجايه هكون لسه الكليه</td>\n",
              "      <td>[[0.32768285, -0.5181918, 0.06737751, -1.42059...</td>\n",
              "    </tr>\n",
              "    <tr>\n",
              "      <th>1</th>\n",
              "      <td>عجز الموازنه وصل ل93.7 % من الناتج المحلي يعني...</td>\n",
              "      <td>anger</td>\n",
              "      <td>عجز الموازنه وصل الناتج المحلي يعني لسه اقل نف...</td>\n",
              "      <td>[[-0.37491006, -1.5095029, -0.3598289, -0.8258...</td>\n",
              "    </tr>\n",
              "    <tr>\n",
              "      <th>2</th>\n",
              "      <td>كتنا نيله ف حظنا الهباب xD</td>\n",
              "      <td>sadness</td>\n",
              "      <td>كتنا نيله حظنا الهباب</td>\n",
              "      <td>[[0.20411977, 0.5643407, 0.08659431, -1.213814...</td>\n",
              "    </tr>\n",
              "    <tr>\n",
              "      <th>3</th>\n",
              "      <td>جميعنا نريد تحقيق اهدافنا لكن تونس تالقت في حر...</td>\n",
              "      <td>joy</td>\n",
              "      <td>جميعنا نريد تحقيق اهدافنا تونس تالقت حراسه المرمي</td>\n",
              "      <td>[[-0.06429669, -0.7303029, -0.13922364, -0.592...</td>\n",
              "    </tr>\n",
              "    <tr>\n",
              "      <th>4</th>\n",
              "      <td>الاوليمبياد نظامها مختلف .. ومواعيد المونديال ...</td>\n",
              "      <td>none</td>\n",
              "      <td>الاوليمبياد نظامها مختلف ومواعيد المونديال مكا...</td>\n",
              "      <td>[[0.36728913, -1.1709914, -0.042227525, -0.112...</td>\n",
              "    </tr>\n",
              "    <tr>\n",
              "      <th>...</th>\n",
              "      <td>...</td>\n",
              "      <td>...</td>\n",
              "      <td>...</td>\n",
              "      <td>...</td>\n",
              "    </tr>\n",
              "    <tr>\n",
              "      <th>995</th>\n",
              "      <td>الي الكنترول انهارده اخر يوم حرام علي امك بقي ...</td>\n",
              "      <td>anger</td>\n",
              "      <td>الي الكنترول انهارده اخر يوم حرام علي امك بقي ...</td>\n",
              "      <td>[[-0.48713517, 0.24237752, -0.6059217, -1.5234...</td>\n",
              "    </tr>\n",
              "    <tr>\n",
              "      <th>996</th>\n",
              "      <td>انا مش عارفه بعد ما الاوليمبياد تخلص هقعد اعمل...</td>\n",
              "      <td>fear</td>\n",
              "      <td>انا مش عارفه الاوليمبياد تخلص هقعد اعمل ايه اح...</td>\n",
              "      <td>[[-0.25322205, -0.7574422, -0.10787754, -0.790...</td>\n",
              "    </tr>\n",
              "    <tr>\n",
              "      <th>997</th>\n",
              "      <td>مُش معقول!!</td>\n",
              "      <td>surprise</td>\n",
              "      <td>مش معقول</td>\n",
              "      <td>[[1.2739047, -0.14573395, -0.37586367, -0.8050...</td>\n",
              "    </tr>\n",
              "    <tr>\n",
              "      <th>998</th>\n",
              "      <td>انا هنتحر</td>\n",
              "      <td>sadness</td>\n",
              "      <td>انا هنتحر</td>\n",
              "      <td>[[0.04206711, -0.1571647, 0.10179282, -1.02258...</td>\n",
              "    </tr>\n",
              "    <tr>\n",
              "      <th>999</th>\n",
              "      <td>صوتك حلو لا تذبح الشوق بالصمّت احب صوتك لا غدا...</td>\n",
              "      <td>love</td>\n",
              "      <td>صوتك حلو تذبح الشوق بالصمت احب صوتك بحه</td>\n",
              "      <td>[[-0.41728038, -0.28778327, -0.09751006, -1.11...</td>\n",
              "    </tr>\n",
              "  </tbody>\n",
              "</table>\n",
              "<p>1000 rows × 4 columns</p>\n",
              "</div>"
            ],
            "text/plain": [
              "                                                  text   emotion  \\\n",
              "0              الاوليمبياد الجايه هكون لسه ف الكليه ..      none   \n",
              "1    عجز الموازنه وصل ل93.7 % من الناتج المحلي يعني...     anger   \n",
              "2                           كتنا نيله ف حظنا الهباب xD   sadness   \n",
              "3    جميعنا نريد تحقيق اهدافنا لكن تونس تالقت في حر...       joy   \n",
              "4    الاوليمبياد نظامها مختلف .. ومواعيد المونديال ...      none   \n",
              "..                                                 ...       ...   \n",
              "995  الي الكنترول انهارده اخر يوم حرام علي امك بقي ...     anger   \n",
              "996  انا مش عارفه بعد ما الاوليمبياد تخلص هقعد اعمل...      fear   \n",
              "997                                        مُش معقول!!  surprise   \n",
              "998                                          انا هنتحر   sadness   \n",
              "999  صوتك حلو لا تذبح الشوق بالصمّت احب صوتك لا غدا...      love   \n",
              "\n",
              "                                           cleanedText  \\\n",
              "0                   الاوليمبياد الجايه هكون لسه الكليه   \n",
              "1    عجز الموازنه وصل الناتج المحلي يعني لسه اقل نف...   \n",
              "2                                كتنا نيله حظنا الهباب   \n",
              "3    جميعنا نريد تحقيق اهدافنا تونس تالقت حراسه المرمي   \n",
              "4    الاوليمبياد نظامها مختلف ومواعيد المونديال مكا...   \n",
              "..                                                 ...   \n",
              "995  الي الكنترول انهارده اخر يوم حرام علي امك بقي ...   \n",
              "996  انا مش عارفه الاوليمبياد تخلص هقعد اعمل ايه اح...   \n",
              "997                                           مش معقول   \n",
              "998                                          انا هنتحر   \n",
              "999            صوتك حلو تذبح الشوق بالصمت احب صوتك بحه   \n",
              "\n",
              "                                     arabert_embedding  \n",
              "0    [[0.32768285, -0.5181918, 0.06737751, -1.42059...  \n",
              "1    [[-0.37491006, -1.5095029, -0.3598289, -0.8258...  \n",
              "2    [[0.20411977, 0.5643407, 0.08659431, -1.213814...  \n",
              "3    [[-0.06429669, -0.7303029, -0.13922364, -0.592...  \n",
              "4    [[0.36728913, -1.1709914, -0.042227525, -0.112...  \n",
              "..                                                 ...  \n",
              "995  [[-0.48713517, 0.24237752, -0.6059217, -1.5234...  \n",
              "996  [[-0.25322205, -0.7574422, -0.10787754, -0.790...  \n",
              "997  [[1.2739047, -0.14573395, -0.37586367, -0.8050...  \n",
              "998  [[0.04206711, -0.1571647, 0.10179282, -1.02258...  \n",
              "999  [[-0.41728038, -0.28778327, -0.09751006, -1.11...  \n",
              "\n",
              "[1000 rows x 4 columns]"
            ]
          },
          "execution_count": 294,
          "metadata": {},
          "output_type": "execute_result"
        }
      ],
      "source": [
        "df"
      ]
    },
    {
      "cell_type": "code",
      "execution_count": 296,
      "metadata": {},
      "outputs": [
        {
          "name": "stdout",
          "output_type": "stream",
          "text": [
            "AraBERT Embedding for the Example Text:\n"
          ]
        }
      ],
      "source": [
        "# example_text = \"أهلاً بك في عالم البرمجة\"\n",
        "example_text = df['cleanedText'][2]\n",
        "embedding = get_arabert_embedding(example_text)\n",
        "print(\"AraBERT Embedding for the Example Text:\")\n",
        "# print(embedding)"
      ]
    },
    {
      "cell_type": "code",
      "execution_count": 324,
      "metadata": {},
      "outputs": [],
      "source": [
        "X = df['arabert_embedding'].astype(str).tolist()\n",
        "y = df['emotion']\n",
        "\n",
        "label_encoder = LabelEncoder()\n",
        "y = label_encoder.fit_transform(y)\n",
        "\n",
        "tokenizer = Tokenizer()\n",
        "tokenizer.fit_on_texts(df['text'][1])\n",
        "X_sequences = tokenizer.texts_to_sequences(X)\n",
        "\n",
        "X_padded = pad_sequences(X_sequences)\n",
        "\n",
        "#train test split\n",
        "X_train, X_test, y_train, y_test = train_test_split(X_padded, y, test_size=0.2, random_state=42)"
      ]
    },
    {
      "cell_type": "code",
      "execution_count": 327,
      "metadata": {},
      "outputs": [
        {
          "name": "stdout",
          "output_type": "stream",
          "text": [
            "X_train shape: (800, 214)\n",
            "X_test shape: (200, 214)\n",
            "y_train shape: (800,)\n",
            "y_test shape: (200,)\n"
          ]
        }
      ],
      "source": [
        "print(\"X_train shape:\", X_train.shape)\n",
        "print(\"X_test shape:\", X_test.shape)\n",
        "print(\"y_train shape:\", y_train.shape)\n",
        "print(\"y_test shape:\", y_test.shape)"
      ]
    },
    {
      "cell_type": "code",
      "execution_count": null,
      "metadata": {},
      "outputs": [],
      "source": [
        "# np.save('X_train.npy', X_train)\n",
        "# np.save('X_test.npy', X_test)\n",
        "# np.save('y_train.npy', y_train)\n",
        "# np.save('y_test.npy', y_test)"
      ]
    },
    {
      "cell_type": "code",
      "execution_count": null,
      "metadata": {},
      "outputs": [],
      "source": [
        "# X_train = np.load('X_train.npy')\n",
        "# X_test = np.load('X_test.npy')\n",
        "# y_train = np.load('y_train.npy')\n",
        "# y_test = np.load('y_test.npy')"
      ]
    },
    {
      "cell_type": "code",
      "execution_count": 336,
      "metadata": {},
      "outputs": [
        {
          "name": "stdout",
          "output_type": "stream",
          "text": [
            "Epoch 1/10\n",
            "25/25 [==============================] - 1s 10ms/step - loss: 2.0798 - accuracy: 0.1187\n",
            "Epoch 2/10\n",
            "25/25 [==============================] - 0s 10ms/step - loss: 2.0766 - accuracy: 0.1425\n",
            "Epoch 3/10\n",
            "25/25 [==============================] - 0s 9ms/step - loss: 2.0700 - accuracy: 0.1425\n",
            "Epoch 4/10\n",
            "25/25 [==============================] - 0s 9ms/step - loss: 2.0699 - accuracy: 0.1513\n",
            "Epoch 5/10\n",
            "25/25 [==============================] - 0s 9ms/step - loss: 2.0678 - accuracy: 0.1513\n",
            "Epoch 6/10\n",
            "25/25 [==============================] - 0s 10ms/step - loss: 2.0682 - accuracy: 0.1525\n",
            "Epoch 7/10\n",
            "25/25 [==============================] - 0s 10ms/step - loss: 2.0676 - accuracy: 0.1650\n",
            "Epoch 8/10\n",
            "25/25 [==============================] - 0s 10ms/step - loss: 2.0671 - accuracy: 0.1350\n",
            "Epoch 9/10\n",
            "25/25 [==============================] - 0s 10ms/step - loss: 2.0645 - accuracy: 0.1513\n",
            "Epoch 10/10\n",
            "25/25 [==============================] - 0s 9ms/step - loss: 2.0668 - accuracy: 0.1538\n",
            "7/7 [==============================] - 0s 3ms/step\n",
            "CNN Model Accuracy: 15.50%\n"
          ]
        }
      ],
      "source": [
        "from keras.layers import Masking\n",
        "# CNN\n",
        "model_cnn = Sequential()\n",
        "model_cnn.add(Embedding(input_dim=len(tokenizer.word_index) + 1, output_dim=50, input_length=X_train.shape[1]))\n",
        "model_cnn.add(Conv1D(128, 5, activation='relu'))\n",
        "model_cnn.add(GlobalMaxPooling1D())\n",
        "model_cnn.add(Dense(64, activation='relu'))\n",
        "model_cnn.add(Dense(8, activation='softmax'))\n",
        "\n",
        "model_cnn.compile(optimizer='adam', loss='sparse_categorical_crossentropy', metrics=['accuracy'])\n",
        "\n",
        "model_cnn.fit(X_train, y_train, epochs=10, batch_size=32)\n",
        "\n",
        "y_pred_cnn = np.argmax(model_cnn.predict(X_test), axis=1)\n",
        "accuracy_cnn = accuracy_score(y_test, y_pred_cnn) \n",
        "\n",
        "print(f\"CNN Model Accuracy: {accuracy_cnn * 100:.2f}%\")"
      ]
    },
    {
      "cell_type": "code",
      "execution_count": null,
      "metadata": {},
      "outputs": [],
      "source": [
        "# from sklearn.metrics import classification_report\n",
        "# X_train, X_test, y_train, y_test = train_test_split(df['fineText'], df['dialect'], test_size=0.2, random_state=42) # Splitting data into train and test with 0.8 train and 0.2 test\n",
        "\n",
        "# def word_embeddings(text): # fuction that takes text\n",
        "#     tokens = word_tokenize(text) # tokenizes the input\n",
        "#     return [token for token in tokens if token in ftext.key_to_index] # returns a list of tokens that are present in -----> ftext.key_to_index.\n",
        "\n",
        "# vectorizer = CountVectorizer(tokenizer=word_embeddings, preprocessor=None, lowercase=False) # used to tokenize the text data\n",
        "# X_train_transformed = vectorizer.fit_transform(X_train)\n",
        "\n",
        "# # Splitting training data into batches and training the Naive Bayes model: This section sets the batch_size\n",
        "# # to 100 and initializes a MultinomialNB model named nb_model. It then loops through the training data in\n",
        "# # batches of size batch_size and uses the partial_fit method of nb_model to train\n",
        "# batch_size = 100\n",
        "# nb_model = MultinomialNB()\n",
        "# for i in range(0, X_train_transformed.shape[0], batch_size):\n",
        "#     end = min(i + batch_size, X_train_transformed.shape[0])\n",
        "#     nb_model.partial_fit(X_train_transformed[i:end], y_train[i:end], classes=df['dialect'].unique())\n",
        "\n",
        "\n",
        "# X_test_transformed = vectorizer.transform(X_test) # Transforming the test data and calculating accuracy\n",
        "# accuracy = nb_model.score(X_test_transformed, y_test)\n",
        "# accuracy = accuracy*100\n",
        "# print(\"Naive Bayes Accuracy:\", accuracy,'%')\n",
        "\n",
        "\n",
        "# y_pred = nb_model.predict(X_test_transformed)\n",
        "# #  classification report\n",
        "# report = classification_report(y_test, y_pred)\n",
        "# print(\"Classification Report:\")\n",
        "# print(report)\n"
      ]
    },
    {
      "cell_type": "markdown",
      "metadata": {
        "id": "Bo0tjtRxlgxb"
      },
      "source": [
        "## c) Step 3: Models Development"
      ]
    },
    {
      "cell_type": "markdown",
      "metadata": {},
      "source": [
        "prepares data for emotion detection using NLP. It uses Arabert embeddings,\n",
        "\n",
        "encodes emotions with LabelEncoder, tokenizes text, and pads sequences for training and testing.\n",
        "\n",
        "Splitting data into train and test sets is done with a 20% test size and a random seed of 42."
      ]
    },
    {
      "cell_type": "code",
      "execution_count": null,
      "metadata": {
        "id": "hVuZRGe_WPQv"
      },
      "outputs": [],
      "source": [
        "X = df['arabert_embeddings'].astype(str).tolist()\n",
        "y = df['emotion']\n",
        "\n",
        "label_encoder = LabelEncoder()\n",
        "y = label_encoder.fit_transform(y)\n",
        "\n",
        "tokenizer = Tokenizer()\n",
        "tokenizer.fit_on_texts(X)\n",
        "X_sequences = tokenizer.texts_to_sequences(X)\n",
        "\n",
        "X_padded = pad_sequences(X_sequences)\n",
        "\n",
        "X_train, X_test, y_train, y_test = train_test_split(X_padded, y, test_size=0.2, random_state=42)"
      ]
    },
    {
      "cell_type": "code",
      "execution_count": null,
      "metadata": {},
      "outputs": [],
      "source": [
        "# random_state=SEED ensures reproducibility\n",
        "# stratify=y means that the split will maintain the same class distribution in both the training and testing sets\n",
        "# SEED = 123\n",
        "# X_train,X_test,y_train,y_test=train_test_split(X_padded, y, test_size=0.2, random_state=SEED, stratify=y)"
      ]
    },
    {
      "cell_type": "code",
      "execution_count": null,
      "metadata": {},
      "outputs": [
        {
          "name": "stdout",
          "output_type": "stream",
          "text": [
            "Type of X_train: <class 'numpy.ndarray'>\n",
            "Type of X_test: <class 'numpy.ndarray'>\n",
            "Type of y_train: <class 'numpy.ndarray'>\n",
            "Type of y_test: <class 'numpy.ndarray'>\n"
          ]
        }
      ],
      "source": [
        "print(\"Type of X_train:\", type(X_train))\n",
        "print(\"Type of X_test:\", type(X_test))\n",
        "print(\"Type of y_train:\", type(y_train))\n",
        "print(\"Type of y_test:\", type(y_test))"
      ]
    },
    {
      "cell_type": "code",
      "execution_count": null,
      "metadata": {},
      "outputs": [],
      "source": [
        "# from imblearn.over_sampling import RandomOverSampler\n",
        "\n",
        "# # oversampler  = RandomOverSampler(sampling_strategy='auto')\n",
        "# # X_train_resampled, y_train_resampled = oversampler .fit_resample(X_train, y_train)\n",
        "\n",
        "# oversample = RandomOverSampler(sampling_strategy='auto')\n",
        "# X_resampled, y_resampled = oversample.fit_resample(X_padded, y)"
      ]
    },
    {
      "cell_type": "code",
      "execution_count": null,
      "metadata": {},
      "outputs": [],
      "source": [
        "model_lstm = Sequential()\n",
        "model_lstm.add(Embedding(input_dim=len(tokenizer.word_index) + 1, output_dim=50, input_length=X_train.shape[1]))\n",
        "model_lstm.add(Bidirectional(LSTM(64, return_sequences=True)))\n",
        "model_lstm.add(Dropout(0.5))  \n",
        "model_lstm.add(Bidirectional(LSTM(32)))\n",
        "model_lstm.add(Dense(64, activation='relu'))\n",
        "model_lstm.add(Dropout(0.5)) \n",
        "model_lstm.add(Dense(8, activation='softmax'))\n",
        "\n",
        "model_lstm.compile(optimizer='adam', loss='sparse_categorical_crossentropy', metrics=['accuracy'])   \n",
        "\n",
        "# model_lstm.fit(X_train, y_train, epochs=8, batch_size=32, validation_split=0.1)\n",
        "model_lstm.fit(X_resampled, y_resampled, epochs=8, batch_size=32, validation_split=0.1) # oversapmling\n",
        "\n",
        "y_pred_lstm = np.argmax(model_lstm.predict(X_test), axis=1)\n",
        "accuracy_lstm = accuracy_score(y_test, y_pred_lstm)\n",
        "\n",
        "\n",
        "print(f\"LSTM Model Accuracy: {accuracy_lstm * 100:.2f}%\")"
      ]
    },
    {
      "cell_type": "code",
      "execution_count": null,
      "metadata": {},
      "outputs": [
        {
          "name": "stderr",
          "output_type": "stream",
          "text": [
            "c:\\Users\\husse\\AppData\\Local\\Programs\\Python\\Python311\\Lib\\site-packages\\keras\\src\\engine\\training.py:3103: UserWarning: You are saving your model as an HDF5 file via `model.save()`. This file format is considered legacy. We recommend using instead the native Keras format, e.g. `model.save('my_model.keras')`.\n",
            "  saving_api.save_model(\n"
          ]
        }
      ],
      "source": [
        "# from keras.models import save_model\n",
        "\n",
        "# # Assuming your model is named model_lstm\n",
        "# model_lstm.save(\"bi_lstm-4000.h5\")"
      ]
    },
    {
      "cell_type": "code",
      "execution_count": null,
      "metadata": {},
      "outputs": [
        {
          "name": "stdout",
          "output_type": "stream",
          "text": [
            "LSTM Model Classification Report:\n",
            "               precision    recall  f1-score   support\n",
            "\n",
            "       anger       0.75      1.00      0.86        12\n",
            "        fear       0.82      0.82      0.82        11\n",
            "         joy       0.72      1.00      0.84        13\n",
            "        love       1.00      0.54      0.70        13\n",
            "        none       0.93      0.93      0.93        15\n",
            "     sadness       0.92      0.92      0.92        13\n",
            "    surprise       0.85      0.92      0.88        12\n",
            "    sympathy       0.86      0.55      0.67        11\n",
            "\n",
            "    accuracy                           0.84       100\n",
            "   macro avg       0.86      0.83      0.83       100\n",
            "weighted avg       0.86      0.84      0.83       100\n",
            "\n"
          ]
        }
      ],
      "source": [
        "# class_names = label_encoder.classes_\n",
        "# y_test_names = label_encoder.inverse_transform(y_test)\n",
        "# y_pred_names = label_encoder.inverse_transform(y_pred_lstm)\n",
        "\n",
        "# report = classification_report(y_test_names, y_pred_names, target_names=class_names)\n",
        "# print(\"LSTM Model Classification Report:\\n\", report)"
      ]
    },
    {
      "cell_type": "markdown",
      "metadata": {},
      "source": [
        "- CNN"
      ]
    },
    {
      "cell_type": "code",
      "execution_count": null,
      "metadata": {},
      "outputs": [],
      "source": [
        "# # CNN\n",
        "# model_cnn = Sequential()\n",
        "# model_cnn.add(Embedding(input_dim=len(tokenizer.word_index) + 1, output_dim=50, input_length=X_padded.shape[1]))\n",
        "# model_cnn.add(Conv1D(128, 5, activation='relu'))\n",
        "# model_cnn.add(Dropout(0.5))\n",
        "# model_cnn.add(GlobalMaxPooling1D())\n",
        "# model_cnn.add(Dense(64, activation='relu'))\n",
        "# model_cnn.add(Dropout(0.5))\n",
        "# model_cnn.add(Dense(8, activation='softmax'))\n",
        "\n",
        "# model_cnn.compile(optimizer='adam', loss='sparse_categorical_crossentropy', metrics=['accuracy'])\n",
        "\n",
        "# model_cnn.fit(X_resampled, y_resampled, epochs=10, batch_size=32, validation_split=0.1)\n",
        "\n",
        "# y_pred_cnn = np.argmax(model_cnn.predict(X_test), axis=1)\n",
        "# accuracy_cnn = accuracy_score(y_test, y_pred_cnn) \n",
        "# print(f\"CNN Model Accuracy: {accuracy_cnn * 100:.2f}%\")"
      ]
    },
    {
      "cell_type": "code",
      "execution_count": null,
      "metadata": {},
      "outputs": [
        {
          "name": "stdout",
          "output_type": "stream",
          "text": [
            "CNN Model Classification Report:\n",
            "               precision    recall  f1-score   support\n",
            "\n",
            "       anger       1.00      1.00      1.00        12\n",
            "        fear       1.00      1.00      1.00        11\n",
            "         joy       1.00      1.00      1.00        13\n",
            "        love       1.00      1.00      1.00        13\n",
            "        none       1.00      1.00      1.00        15\n",
            "     sadness       1.00      1.00      1.00        13\n",
            "    surprise       1.00      1.00      1.00        12\n",
            "    sympathy       1.00      1.00      1.00        11\n",
            "\n",
            "    accuracy                           1.00       100\n",
            "   macro avg       1.00      1.00      1.00       100\n",
            "weighted avg       1.00      1.00      1.00       100\n",
            "\n"
          ]
        }
      ],
      "source": [
        "# class_names = label_encoder.classes_\n",
        "# y_test_names = label_encoder.inverse_transform(y_test)\n",
        "# y_pred_names = label_encoder.inverse_transform(y_pred_cnn)\n",
        "\n",
        "# report = classification_report(y_test_names, y_pred_names, target_names=class_names)\n",
        "# print(\"CNN Model Classification Report:\\n\", report)"
      ]
    },
    {
      "cell_type": "markdown",
      "metadata": {
        "id": "mW1ZnJOPlmxw"
      },
      "source": [
        "## d) Step 4: Testing Models"
      ]
    },
    {
      "cell_type": "markdown",
      "metadata": {},
      "source": [
        "translate_to_arabic(text): \n",
        "This function uses the Google Translate API to translate the input text from any language to Arabic. It takes a text input, translates it to Arabic, and returns the translated text.\n",
        "\n",
        "\n",
        "\n",
        "preprocess_text_for_prediction(text, tokenizer, max_length): \n",
        "This function preprocesses the input text for emotion prediction using a neural network model. It first cleans the text (assuming there's a clean_text function defined elsewhere), then translates it to Arabic using the translate_to_arabic function. After translation, it tokenizes the text using the provided tokenizer and pads it to a specified maximum length. The preprocessed text is then ready for input to an NLP emotion detection model.\n",
        "\n",
        "\n",
        "\n",
        "predict_emotion(model, text_padded): \n",
        "This function takes a preprocessed and padded text as input along with an NLP emotion detection model. It uses the model to predict the probabilities of different emotions for the given text and returns the predicted probabilities for each emotion class."
      ]
    },
    {
      "cell_type": "code",
      "execution_count": null,
      "metadata": {},
      "outputs": [],
      "source": [
        "from googletrans import Translator\n",
        "\n",
        "def translate_to_arabic(text):\n",
        "    translator = Translator()\n",
        "    translation = translator.translate(text, dest='ar')\n",
        "    return translation.text\n",
        "\n",
        "def preprocess_text_for_prediction(text, tokenizer, max_length):\n",
        "    cleaned_text = clean_text(text)  # Assuming clean_text is defined elsewhere\n",
        "    translated_text = translate_to_arabic(cleaned_text)\n",
        "    \n",
        "    # Tokenize and pad the text\n",
        "    text_sequence = tokenizer.texts_to_sequences([translated_text])\n",
        "    text_padded = pad_sequences(text_sequence, maxlen=max_length)\n",
        "    return text_padded\n",
        "\n",
        "def predict_emotion(model, text_padded):\n",
        "    predictions = model.predict(text_padded)\n",
        "    return predictions[0]  # Return the probabilities for each class\n"
      ]
    },
    {
      "cell_type": "code",
      "execution_count": null,
      "metadata": {},
      "outputs": [],
      "source": [
        "def clean_text_Franco(text):\n",
        "    # Remove URLs https://www.example.com/\n",
        "    text = re.sub(r'http\\S+', '', text)\n",
        "    # Remove user mentions @mohamed_samy\n",
        "    text = re.sub(r'@[A-Za-z0-9_]+', '', text)\n",
        "    # Remove hashtags #free_palestine\n",
        "    text = re.sub(r'#', '', text)\n",
        "    # Remove punctuation period, comma, apostrophe, quotation, question, exclamation, brackets, braces, parenthesis, dash, hyphen, ellipsis, colon, semicolon\n",
        "    text = re.sub(r'[^\\w\\s]', '', text)\n",
        "    # Tokenize the text\n",
        "    tokens = nltk.word_tokenize(text)\n",
        "    # Convert to lower case\n",
        "    tokens = [word.lower() for word in tokens]\n",
        "    # Join the tokens back into a clean text\n",
        "    clean_text = ' '.join(tokens)\n",
        "\n",
        "    return clean_text\n",
        "\n",
        "def is_arabic(text):\n",
        "    arabic_letters = set(\"ابتثجحخدذرزسشصضطظعغفقكلمنهويءآأؤإئى\")\n",
        "    return any(char in arabic_letters for char in text)\n"
      ]
    },
    {
      "cell_type": "code",
      "execution_count": null,
      "metadata": {},
      "outputs": [
        {
          "name": "stdout",
          "output_type": "stream",
          "text": [
            "Input is Franco-Arabic!\n",
            "Original User Input: mt3sabnesh 3shan ana msh tay2 7ad\n",
            "Cleaned User Input: mt3sabnesh 3shan ana msh tay2 7ad\n",
            "Translated User Input: متعصبنش عشان أنا مش طيء حد\n",
            "----------------------------------------------------------------\n"
          ]
        }
      ],
      "source": [
        "# User input\n",
        "# user_input_text = input(\"Enter a text for emotion prediction: \")\n",
        "\n",
        "user_input_text = \"mt3sabnesh 3shan ana msh tay2 7ad\"\n",
        "\n",
        "\n",
        "if not is_arabic(user_input_text):\n",
        "    print(\"Input is Franco-Arabic!\")\n",
        "    print(f\"Original User Input: {user_input_text}\")\n",
        "\n",
        "    clean_Franco = clean_text_Franco(user_input_text)\n",
        "    print(f\"Cleaned User Input: {clean_Franco}\")\n",
        "\n",
        "    translated_user_input = translate_to_arabic(clean_Franco)\n",
        "    print(f\"Translated User Input: {translated_user_input}\")\n",
        "\n",
        "    # Use translated text for further processing\n",
        "    clean_user_input = translated_user_input\n",
        "    print(\"----------------------------------------------------------------\")\n",
        "else:\n",
        "    print(\"Input is Arabic!\")\n",
        "\n",
        "    print(f\"Original User Input: {user_input_text}\")\n",
        "\n",
        "    clean_user_input = clean_text(user_input_text)\n",
        "    print(f\"Cleaned User Input: {clean_user_input}\")\n",
        "    print(\"----------------------------------------------------------------\")\n",
        "\n",
        "\n",
        "user_text_padded = preprocess_text_for_prediction(clean_user_input, tokenizer, X_padded.shape[1])"
      ]
    },
    {
      "cell_type": "code",
      "execution_count": null,
      "metadata": {},
      "outputs": [
        {
          "name": "stdout",
          "output_type": "stream",
          "text": [
            "1/1 [==============================] - 0s 290ms/step\n",
            "\n",
            "Predicted Emotion: none\n",
            "Probabilities:\n",
            "none: 47.37%\n",
            "love: 46.98%\n",
            "anger: 2.86%\n",
            "sadness: 2.35%\n",
            "fear: 0.31%\n",
            "joy: 0.06%\n",
            "sympathy: 0.05%\n",
            "surprise: 0.03%\n"
          ]
        },
        {
          "data": {
            "image/png": "[encoded data removed]",
            "text/plain": [
              "<Figure size 640x480 with 1 Axes>"
            ]
          },
          "metadata": {},
          "output_type": "display_data"
        }
      ],
      "source": [
        "user_predicted_probabilities = predict_emotion(model_lstm, user_text_padded) #  ---------------------------------------------------------------- using BI-LSTM model\n",
        "\n",
        "# Display the predicted emotion and probabilities\n",
        "user_predicted_class = np.argmax(user_predicted_probabilities)\n",
        "user_predicted_emotion = label_encoder.classes_[user_predicted_class]\n",
        "user_probabilities_dict = {emotion: round(prob * 100, 2) for emotion, prob in zip(label_encoder.classes_, user_predicted_probabilities)}\n",
        "user_sorted_probabilities = dict(sorted(user_probabilities_dict.items(), key=lambda item: item[1], reverse=True))\n",
        "\n",
        "print(f\"\\nPredicted Emotion: {user_predicted_emotion}\")\n",
        "print(\"Probabilities:\")\n",
        "for emotion, prob in user_sorted_probabilities.items():\n",
        "    print(f\"{emotion}: {prob}%\")\n",
        "\n",
        "plt.bar(user_sorted_probabilities.keys(), user_sorted_probabilities.values(), color='skyblue')\n",
        "plt.title('Predicted Emotion Probabilities')\n",
        "plt.xlabel('Emotion')\n",
        "plt.ylabel('Probability (%)')\n",
        "plt.show()"
      ]
    },
    {
      "cell_type": "code",
      "execution_count": null,
      "metadata": {},
      "outputs": [
        {
          "name": "stdout",
          "output_type": "stream",
          "text": [
            "1/1 [==============================] - 0s 25ms/step\n",
            "\n",
            "Predicted Emotion (CNN): surprise\n",
            "Probabilities (CNN):\n",
            "surprise: 16.51%\n",
            "love: 13.09%\n",
            "fear: 12.86%\n",
            "sadness: 12.52%\n",
            "joy: 12.17%\n",
            "sympathy: 11.63%\n",
            "anger: 10.68%\n",
            "none: 10.54%\n"
          ]
        },
        {
          "data": {
            "image/png": "[encoded data removed]",
            "text/plain": [
              "<Figure size 640x480 with 1 Axes>"
            ]
          },
          "metadata": {},
          "output_type": "display_data"
        }
      ],
      "source": [
        "# Predict with the CNN model\n",
        "user_predicted_probabilities_cnn = predict_emotion(model_cnn, user_text_padded)  #  ---------------------------------------------------------------- using BI-LSTM model\n",
        "\n",
        "# Display the predicted emotion and probabilities for CNN model\n",
        "user_predicted_class_cnn = np.argmax(user_predicted_probabilities_cnn)\n",
        "user_predicted_emotion_cnn = label_encoder.classes_[user_predicted_class_cnn]\n",
        "user_probabilities_dict_cnn = {emotion: round(prob * 100, 2) for emotion, prob in zip(label_encoder.classes_, user_predicted_probabilities_cnn)}\n",
        "user_sorted_probabilities_cnn = dict(sorted(user_probabilities_dict_cnn.items(), key=lambda item: item[1], reverse=True))\n",
        "\n",
        "print(f\"\\nPredicted Emotion (CNN): {user_predicted_emotion_cnn}\")\n",
        "print(\"Probabilities (CNN):\")\n",
        "for emotion, prob in user_sorted_probabilities_cnn.items():\n",
        "    print(f\"{emotion}: {prob}%\")\n",
        "\n",
        "# Plot the bar chart for CNN model\n",
        "plt.bar(user_sorted_probabilities_cnn.keys(), user_sorted_probabilities_cnn.values(), color='lightcoral')\n",
        "plt.title('Predicted Emotion Probabilities (CNN)')\n",
        "plt.xlabel('Emotion')\n",
        "plt.ylabel('Probability (%)')\n",
        "plt.show()"
      ]
    }
  ],
  "metadata": {
    "colab": {
      "provenance": []
    },
    "kernelspec": {
      "display_name": "Python 3",
      "name": "python3"
    },
    "language_info": {
      "codemirror_mode": {
        "name": "ipython",
        "version": 3
      },
      "file_extension": ".py",
      "mimetype": "text/x-python",
      "name": "python",
      "nbconvert_exporter": "python",
      "pygments_lexer": "ipython3",
      "version": "3.11.2"
    }
  },
  "nbformat": 4,
  "nbformat_minor": 0
}
