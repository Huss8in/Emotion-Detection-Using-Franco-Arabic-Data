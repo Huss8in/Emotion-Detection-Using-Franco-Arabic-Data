{
 "cells": [
  {
   "attachments": {},
   "cell_type": "markdown",
   "metadata": {},
   "source": [
    "# pandas"
   ]
  },
  {
   "cell_type": "code",
   "execution_count": 1,
   "metadata": {},
   "outputs": [],
   "source": [
    "import pandas as pd"
   ]
  },
  {
   "cell_type": "code",
   "execution_count": 2,
   "metadata": {},
   "outputs": [
    {
     "data": {
      "text/html": [
       "<div>\n",
       "<style scoped>\n",
       "    .dataframe tbody tr th:only-of-type {\n",
       "        vertical-align: middle;\n",
       "    }\n",
       "\n",
       "    .dataframe tbody tr th {\n",
       "        vertical-align: top;\n",
       "    }\n",
       "\n",
       "    .dataframe thead th {\n",
       "        text-align: right;\n",
       "    }\n",
       "</style>\n",
       "<table border=\"1\" class=\"dataframe\">\n",
       "  <thead>\n",
       "    <tr style=\"text-align: right;\">\n",
       "      <th></th>\n",
       "      <th>Artist Name</th>\n",
       "      <th>Track Name</th>\n",
       "      <th>Popularity</th>\n",
       "      <th>danceability</th>\n",
       "      <th>energy</th>\n",
       "      <th>key</th>\n",
       "      <th>loudness</th>\n",
       "      <th>mode</th>\n",
       "      <th>speechiness</th>\n",
       "      <th>acousticness</th>\n",
       "      <th>instrumentalness</th>\n",
       "      <th>liveness</th>\n",
       "      <th>valence</th>\n",
       "      <th>tempo</th>\n",
       "      <th>duration_in min/ms</th>\n",
       "      <th>time_signature</th>\n",
       "      <th>Genre</th>\n",
       "    </tr>\n",
       "  </thead>\n",
       "  <tbody>\n",
       "    <tr>\n",
       "      <th>0</th>\n",
       "      <td>Bruno Mars</td>\n",
       "      <td>That's What I Like (feat. Gucci Mane)</td>\n",
       "      <td>60.0</td>\n",
       "      <td>0.854</td>\n",
       "      <td>0.564</td>\n",
       "      <td>1.0</td>\n",
       "      <td>-4.964</td>\n",
       "      <td>1</td>\n",
       "      <td>0.0485</td>\n",
       "      <td>0.017100</td>\n",
       "      <td>NaN</td>\n",
       "      <td>0.0849</td>\n",
       "      <td>0.8990</td>\n",
       "      <td>134.071</td>\n",
       "      <td>234596.0</td>\n",
       "      <td>4</td>\n",
       "      <td>5</td>\n",
       "    </tr>\n",
       "    <tr>\n",
       "      <th>1</th>\n",
       "      <td>Boston</td>\n",
       "      <td>Hitch a Ride</td>\n",
       "      <td>54.0</td>\n",
       "      <td>0.382</td>\n",
       "      <td>0.814</td>\n",
       "      <td>3.0</td>\n",
       "      <td>-7.230</td>\n",
       "      <td>1</td>\n",
       "      <td>0.0406</td>\n",
       "      <td>0.001100</td>\n",
       "      <td>0.004010</td>\n",
       "      <td>0.1010</td>\n",
       "      <td>0.5690</td>\n",
       "      <td>116.454</td>\n",
       "      <td>251733.0</td>\n",
       "      <td>4</td>\n",
       "      <td>10</td>\n",
       "    </tr>\n",
       "    <tr>\n",
       "      <th>2</th>\n",
       "      <td>The Raincoats</td>\n",
       "      <td>No Side to Fall In</td>\n",
       "      <td>35.0</td>\n",
       "      <td>0.434</td>\n",
       "      <td>0.614</td>\n",
       "      <td>6.0</td>\n",
       "      <td>-8.334</td>\n",
       "      <td>1</td>\n",
       "      <td>0.0525</td>\n",
       "      <td>0.486000</td>\n",
       "      <td>0.000196</td>\n",
       "      <td>0.3940</td>\n",
       "      <td>0.7870</td>\n",
       "      <td>147.681</td>\n",
       "      <td>109667.0</td>\n",
       "      <td>4</td>\n",
       "      <td>6</td>\n",
       "    </tr>\n",
       "    <tr>\n",
       "      <th>3</th>\n",
       "      <td>Deno</td>\n",
       "      <td>Lingo (feat. J.I &amp; Chunkz)</td>\n",
       "      <td>66.0</td>\n",
       "      <td>0.853</td>\n",
       "      <td>0.597</td>\n",
       "      <td>10.0</td>\n",
       "      <td>-6.528</td>\n",
       "      <td>0</td>\n",
       "      <td>0.0555</td>\n",
       "      <td>0.021200</td>\n",
       "      <td>NaN</td>\n",
       "      <td>0.1220</td>\n",
       "      <td>0.5690</td>\n",
       "      <td>107.033</td>\n",
       "      <td>173968.0</td>\n",
       "      <td>4</td>\n",
       "      <td>5</td>\n",
       "    </tr>\n",
       "    <tr>\n",
       "      <th>4</th>\n",
       "      <td>Red Hot Chili Peppers</td>\n",
       "      <td>Nobody Weird Like Me - Remastered</td>\n",
       "      <td>53.0</td>\n",
       "      <td>0.167</td>\n",
       "      <td>0.975</td>\n",
       "      <td>2.0</td>\n",
       "      <td>-4.279</td>\n",
       "      <td>1</td>\n",
       "      <td>0.2160</td>\n",
       "      <td>0.000169</td>\n",
       "      <td>0.016100</td>\n",
       "      <td>0.1720</td>\n",
       "      <td>0.0918</td>\n",
       "      <td>199.060</td>\n",
       "      <td>229960.0</td>\n",
       "      <td>4</td>\n",
       "      <td>10</td>\n",
       "    </tr>\n",
       "  </tbody>\n",
       "</table>\n",
       "</div>"
      ],
      "text/plain": [
       "             Artist Name                             Track Name  Popularity  \\\n",
       "0             Bruno Mars  That's What I Like (feat. Gucci Mane)        60.0   \n",
       "1                 Boston                           Hitch a Ride        54.0   \n",
       "2          The Raincoats                     No Side to Fall In        35.0   \n",
       "3                   Deno             Lingo (feat. J.I & Chunkz)        66.0   \n",
       "4  Red Hot Chili Peppers      Nobody Weird Like Me - Remastered        53.0   \n",
       "\n",
       "   danceability  energy   key  loudness  mode  speechiness  acousticness  \\\n",
       "0         0.854   0.564   1.0    -4.964     1       0.0485      0.017100   \n",
       "1         0.382   0.814   3.0    -7.230     1       0.0406      0.001100   \n",
       "2         0.434   0.614   6.0    -8.334     1       0.0525      0.486000   \n",
       "3         0.853   0.597  10.0    -6.528     0       0.0555      0.021200   \n",
       "4         0.167   0.975   2.0    -4.279     1       0.2160      0.000169   \n",
       "\n",
       "   instrumentalness  liveness  valence    tempo  duration_in min/ms  \\\n",
       "0               NaN    0.0849   0.8990  134.071            234596.0   \n",
       "1          0.004010    0.1010   0.5690  116.454            251733.0   \n",
       "2          0.000196    0.3940   0.7870  147.681            109667.0   \n",
       "3               NaN    0.1220   0.5690  107.033            173968.0   \n",
       "4          0.016100    0.1720   0.0918  199.060            229960.0   \n",
       "\n",
       "   time_signature  Genre  \n",
       "0               4      5  \n",
       "1               4     10  \n",
       "2               4      6  \n",
       "3               4      5  \n",
       "4               4     10  "
      ]
     },
     "execution_count": 2,
     "metadata": {},
     "output_type": "execute_result"
    }
   ],
   "source": [
    "df = pd.read_csv('music_streaming.csv')\n",
    "df.head()"
   ]
  },
  {
   "attachments": {},
   "cell_type": "markdown",
   "metadata": {},
   "source": [
    "- handling missing values"
   ]
  },
  {
   "cell_type": "code",
   "execution_count": 3,
   "metadata": {},
   "outputs": [
    {
     "name": "stdout",
     "output_type": "stream",
     "text": [
      "Artist Name              0\n",
      "Track Name               0\n",
      "Popularity             394\n",
      "danceability             0\n",
      "energy                   0\n",
      "key                   1743\n",
      "loudness                 0\n",
      "mode                     0\n",
      "speechiness              0\n",
      "acousticness             0\n",
      "instrumentalness      3587\n",
      "liveness                 0\n",
      "valence                  0\n",
      "tempo                    0\n",
      "duration_in min/ms       0\n",
      "time_signature           0\n",
      "Genre                    0\n",
      "dtype: int64\n"
     ]
    }
   ],
   "source": [
    "print(df.isnull().sum())"
   ]
  },
  {
   "cell_type": "code",
   "execution_count": 4,
   "metadata": {},
   "outputs": [],
   "source": [
    "popularttiy_median = df['Popularity'].median()\n",
    "df['Popularity'].fillna(popularttiy_median, inplace=True)\n",
    "\n",
    "key_mode = df['key'].mode().iloc[0]\n",
    "df['key'].fillna(key_mode, inplace=True)\n",
    "\n",
    "instrument_mode = df['instrumentalness'].mode().iloc[0]\n",
    "df['instrumentalness'].fillna(instrument_mode, inplace=True)"
   ]
  },
  {
   "cell_type": "code",
   "execution_count": 5,
   "metadata": {},
   "outputs": [
    {
     "name": "stdout",
     "output_type": "stream",
     "text": [
      "Artist Name           0\n",
      "Track Name            0\n",
      "Popularity            0\n",
      "danceability          0\n",
      "energy                0\n",
      "key                   0\n",
      "loudness              0\n",
      "mode                  0\n",
      "speechiness           0\n",
      "acousticness          0\n",
      "instrumentalness      0\n",
      "liveness              0\n",
      "valence               0\n",
      "tempo                 0\n",
      "duration_in min/ms    0\n",
      "time_signature        0\n",
      "Genre                 0\n",
      "dtype: int64\n"
     ]
    }
   ],
   "source": [
    "print(df.isnull().sum())"
   ]
  },
  {
   "attachments": {},
   "cell_type": "markdown",
   "metadata": {},
   "source": [
    "- Drop duplicates"
   ]
  },
  {
   "cell_type": "code",
   "execution_count": 6,
   "metadata": {},
   "outputs": [],
   "source": [
    "df.drop_duplicates(inplace=True)"
   ]
  },
  {
   "attachments": {},
   "cell_type": "markdown",
   "metadata": {},
   "source": [
    "- Add new column"
   ]
  },
  {
   "cell_type": "code",
   "execution_count": 7,
   "metadata": {},
   "outputs": [
    {
     "data": {
      "text/plain": [
       "0         3.909933\n",
       "1         4.195550\n",
       "2         1.827783\n",
       "3         2.899467\n",
       "4         3.832667\n",
       "           ...    \n",
       "15512    10.750000\n",
       "15513     3.760450\n",
       "15514     0.000081\n",
       "15515     5.013667\n",
       "15516     4.246750\n",
       "Name: duration_in_min, Length: 15517, dtype: float64"
      ]
     },
     "execution_count": 7,
     "metadata": {},
     "output_type": "execute_result"
    }
   ],
   "source": [
    "df['duration_in_min'] = df['duration_in min/ms'] / 60000\n",
    "df['duration_in_min']"
   ]
  },
  {
   "attachments": {},
   "cell_type": "markdown",
   "metadata": {},
   "source": [
    "# SparkSQL"
   ]
  },
  {
   "cell_type": "code",
   "execution_count": 8,
   "metadata": {},
   "outputs": [],
   "source": [
    "from pyspark.sql import SparkSession\n",
    "\n",
    "spark = SparkSession.builder.getOrCreate()\n",
    "df = spark.read.format(\"csv\").option(\"header\", \"true\").load(\"after_cleaning.csv\")\n",
    "df.createOrReplaceTempView(\"songs\")\n"
   ]
  },
  {
   "attachments": {},
   "cell_type": "markdown",
   "metadata": {},
   "source": [
    "- a) Perform any necessary data cleaning & engineering that renders your data useable (i.e. handling\n",
    "missing values, duplicates, classification, transformation...etc.)"
   ]
  },
  {
   "cell_type": "code",
   "execution_count": null,
   "metadata": {},
   "outputs": [],
   "source": []
  },
  {
   "attachments": {},
   "cell_type": "markdown",
   "metadata": {},
   "source": [
    "- b) Remove any songs that exceed 5 minutes\n"
   ]
  },
  {
   "cell_type": "code",
   "execution_count": 9,
   "metadata": {},
   "outputs": [],
   "source": [
    "# This query filters out songs that exceed a duration of 5 minutes, by considering songs within this duration limit\n",
    "after_removing = spark.sql(\"SELECT * FROM songs WHERE duration_in_min <= 5\")"
   ]
  },
  {
   "attachments": {},
   "cell_type": "markdown",
   "metadata": {},
   "source": [
    "- c) Display songs by J. Cole, Novo Amor and Anson Seabra"
   ]
  },
  {
   "attachments": {},
   "cell_type": "markdown",
   "metadata": {},
   "source": [
    "Backticks (`) are used to enclose column names that have special characters, spaces, or reserved keywords.\n",
    "\n",
    "Single quotes (') are used to enclose string values or literals in SQL queries."
   ]
  },
  {
   "cell_type": "code",
   "execution_count": 10,
   "metadata": {},
   "outputs": [
    {
     "name": "stdout",
     "output_type": "stream",
     "text": [
      "+------------+--------------------+----------+------------+------+----+--------+----+-----------+------------+----------------+--------+-------+-------+------------------+--------------+-----+------------------+\n",
      "| Artist Name|          Track Name|Popularity|danceability|energy| key|loudness|mode|speechiness|acousticness|instrumentalness|liveness|valence|  tempo|duration_in min/ms|time_signature|Genre|   duration_in_min|\n",
      "+------------+--------------------+----------+------------+------+----+--------+----+-----------+------------+----------------+--------+-------+-------+------------------+--------------+-----+------------------+\n",
      "|     J. Cole|p u n c h i n ‚Äò...|      81.0|       0.769|  0.74|11.0|  -6.579|   0|      0.378|       0.197|        0.000109|   0.171|  0.692| 94.104|          112579.0|             4|    5|1.8763166666666666|\n",
      "|     J. Cole|p r i d e . i s ....|      85.0|       0.861| 0.656| 4.0|  -7.867|   0|      0.425|       0.104|        0.000109|  0.0986|  0.331| 88.967|          218210.0|             4|    5| 3.636833333333333|\n",
      "|     J. Cole|   i n t e r l u d e|      81.0|        0.77| 0.574| 1.0|  -5.525|   1|      0.106|      0.0617|        0.000109|   0.104|  0.104| 98.962|          133022.0|             3|    5| 2.217033333333333|\n",
      "|     J. Cole|m y . l i f e (wi...|      86.0|       0.597| 0.587| 7.0|  -7.026|   0|      0.137|      0.0622|        0.000109|   0.214| 0.0753|140.021|          218802.0|             4|    9|            3.6467|\n",
      "|   Novo Amor|            Birdcage|      54.0|       0.574| 0.407| 1.0|  -8.321|   1|     0.0243|       0.902|           0.637|  0.0927|  0.223| 82.047|          202227.0|             4|    6|           3.37045|\n",
      "|     J. Cole|a p p l y i n g ....|      82.0|       0.699| 0.759| 1.0|  -5.302|   1|      0.311|      0.0814|        0.000109|   0.312|  0.404| 83.092|          177337.0|             4|    5| 2.955616666666667|\n",
      "|     J. Cole|           a m a r i|      86.0|       0.725| 0.713| 4.0|  -6.173|   0|      0.187|       0.127|        0.000109|   0.617|  0.207| 65.988|          148421.0|             4|    9|2.4736833333333332|\n",
      "|     J. Cole|           a m a r i|      86.0|       0.725| 0.713| 4.0|  -6.173|   0|      0.187|       0.127|        0.000109|   0.617|  0.207| 65.988|          148421.0|             4|    5|2.4736833333333332|\n",
      "|Anson Seabra|           Magazines|      46.0|       0.775| 0.424| 5.0| -12.276|   1|     0.0675|       0.511|        0.000109|   0.123|  0.191| 114.95|          220050.0|             4|    9|            3.6675|\n",
      "|     J. Cole|     9 5 . s o u t h|      84.0|       0.713| 0.793| 2.0|  -5.277|   1|      0.397|       0.271|        0.000109|   0.727|  0.203| 71.724|          196946.0|             4|    5|3.2824333333333335|\n",
      "|Anson Seabra|It's Raining, It'...|      70.0|       0.598| 0.444| 2.0|  -8.683|   0|     0.0327|        0.68|        1.94e-05|   0.142|  0.286|113.919|          183090.0|             4|    9|            3.0515|\n",
      "|     J. Cole|l e t . g o . m y...|      82.0|       0.583| 0.625| 1.0|  -8.011|   1|      0.277|       0.506|        0.000109|   0.196|  0.516| 89.812|          266291.0|             4|    5| 4.438183333333333|\n",
      "+------------+--------------------+----------+------------+------+----+--------+----+-----------+------------+----------------+--------+-------+-------+------------------+--------------+-----+------------------+\n",
      "\n"
     ]
    }
   ],
   "source": [
    "# displays the songs by the artists \"J. Cole\", \"Novo Amor\", and \"Anson Seabra\" by selecting name of them\n",
    "# use of the \" IN \" operator simplifies the query by allowing multiple values to be checked against the \"Artist Name\" \n",
    "spark.sql(\"SELECT * FROM songs WHERE `Artist Name` IN ('J. Cole', 'Novo Amor', 'Anson Seabra')\").show()"
   ]
  },
  {
   "attachments": {},
   "cell_type": "markdown",
   "metadata": {},
   "source": [
    "- d) How many songs are included in every category?\n"
   ]
  },
  {
   "cell_type": "code",
   "execution_count": 11,
   "metadata": {},
   "outputs": [
    {
     "name": "stdout",
     "output_type": "stream",
     "text": [
      "+-------+-----+\n",
      "|  Genre|Count|\n",
      "+-------+-----+\n",
      "|      7|  464|\n",
      "|117.017|    1|\n",
      "|      3|  371|\n",
      "|      8| 1704|\n",
      "|      0|  586|\n",
      "|      5| 1210|\n",
      "|      6| 2263|\n",
      "|      9| 1828|\n",
      "|      1| 1268|\n",
      "|     10| 4264|\n",
      "|      4|  376|\n",
      "|      2| 1182|\n",
      "+-------+-----+\n",
      "\n"
     ]
    }
   ],
   "source": [
    "# this query provides the distribution of songs across different genres by counting the occurrences of each genre\n",
    "# the COUNT(*) function is used to count the number of rows \n",
    "song_per_category = spark.sql(\"SELECT Genre, COUNT(*) AS Count FROM songs GROUP BY Genre\")\n",
    "song_per_category.show()"
   ]
  },
  {
   "attachments": {},
   "cell_type": "markdown",
   "metadata": {},
   "source": [
    "- e) Which artists dominated the charts?\n"
   ]
  },
  {
   "cell_type": "code",
   "execution_count": 12,
   "metadata": {},
   "outputs": [
    {
     "name": "stdout",
     "output_type": "stream",
     "text": [
      "+--------------------+-----+\n",
      "|         Artist Name|Count|\n",
      "+--------------------+-----+\n",
      "|     Backstreet Boys|   66|\n",
      "|            Westlife|   54|\n",
      "|      Britney Spears|   52|\n",
      "|  The Rolling Stones|   36|\n",
      "|                  U2|   29|\n",
      "|           Metallica|   27|\n",
      "|     Lata Mangeshkar|   25|\n",
      "|               AC/DC|   23|\n",
      "|         The Beatles|   23|\n",
      "|       Fleetwood Mac|   22|\n",
      "|        Led Zeppelin|   22|\n",
      "|             Nirvana|   22|\n",
      "|      The Black Keys|   22|\n",
      "|       Mohammed Rafi|   21|\n",
      "|            Coldplay|   20|\n",
      "|Creedence Clearwa...|   20|\n",
      "|       Kishore Kumar|   20|\n",
      "|The Smashing Pump...|   18|\n",
      "|           Pearl Jam|   18|\n",
      "|           Aerosmith|   18|\n",
      "+--------------------+-----+\n",
      "only showing top 20 rows\n",
      "\n"
     ]
    }
   ],
   "source": [
    "# query identifies the artists who have the highest number of songs in the dataset by counting the occurrences of each artist's name\n",
    "# ordering the results in descending order to provides a ranking of artists in terms of the number of songs they have\n",
    "dominant_artists = spark.sql(\"SELECT `Artist Name`, COUNT(*) AS Count FROM songs group by `Artist Name` ORDER BY count desc\")\n",
    "dominant_artists.show()"
   ]
  },
  {
   "attachments": {},
   "cell_type": "markdown",
   "metadata": {},
   "source": [
    "- f) What song would be considered for the “Billboard Top 10 song of the Year”?\n",
    "(mention their artists as well)\n"
   ]
  },
  {
   "cell_type": "code",
   "execution_count": 13,
   "metadata": {},
   "outputs": [
    {
     "name": "stdout",
     "output_type": "stream",
     "text": [
      "+--------------------+--------------------+\n",
      "|          Track Name|         Artist Name|\n",
      "+--------------------+--------------------+\n",
      "|            good 4 u|      Olivia Rodrigo|\n",
      "|Kiss Me More (fea...|            Doja Cat|\n",
      "|Astronaut In The ...|         Masked Wolf|\n",
      "|STAY (with Justin...|The Kid LAROI, Ju...|\n",
      "|          Bad Habits|          Ed Sheeran|\n",
      "|STAY (with Justin...|The Kid LAROI, Ju...|\n",
      "|              Butter|                 BTS|\n",
      "|             RAPSTAR|              Polo G|\n",
      "|             RAPSTAR|              Polo G|\n",
      "|                Fiel|     Los Legendarios|\n",
      "+--------------------+--------------------+\n",
      "\n"
     ]
    }
   ],
   "source": [
    "# query retrieves the top 10 most popular songs based on the popularity column in the dataset\n",
    "top_ten = spark.sql(\"SELECT `Track Name`, `Artist Name` FROM songs order by Popularity desc limit 10\")\n",
    "top_ten.show()"
   ]
  },
  {
   "attachments": {},
   "cell_type": "markdown",
   "metadata": {},
   "source": [
    "- g) Recommend at least 5 songs that can be played at a party"
   ]
  },
  {
   "cell_type": "code",
   "execution_count": 14,
   "metadata": {},
   "outputs": [
    {
     "name": "stdout",
     "output_type": "stream",
     "text": [
      "+--------------------+--------------------+\n",
      "|          Track Name|         Artist Name|\n",
      "+--------------------+--------------------+\n",
      "|            good 4 u|      Olivia Rodrigo|\n",
      "|Kiss Me More (fea...|            Doja Cat|\n",
      "|STAY (with Justin...|The Kid LAROI, Ju...|\n",
      "|          Bad Habits|          Ed Sheeran|\n",
      "|Astronaut In The ...|         Masked Wolf|\n",
      "+--------------------+--------------------+\n",
      "\n"
     ]
    }
   ],
   "source": [
    "# Rock, Indie, Alt, Pop, Metal, HipHop, Alt_Music, Blues, Acoustic/Folk, Instrumental, Country\n",
    "#    1,     2,   3,   4,     5,      6,         7,     8,             9,           10,      11\n",
    "\n",
    "spark.sql(\"SELECT `Track Name`, `Artist Name` FROM songs  ORDER BY popularity DESC LIMIT 5 \").show()\n",
    "\n"
   ]
  },
  {
   "attachments": {},
   "cell_type": "markdown",
   "metadata": {},
   "source": [
    "# SparkDataframes"
   ]
  },
  {
   "cell_type": "code",
   "execution_count": 15,
   "metadata": {},
   "outputs": [],
   "source": [
    "from pyspark.sql import SparkSession\n",
    "from pyspark.sql.functions import col\n",
    "\n",
    "spark = SparkSession.builder.appName(\"Spotify\").getOrCreate()\n",
    "\n",
    "df = spark.read.format(\"csv\").option(\"header\", \"true\").load(\"after_cleaning.csv\")"
   ]
  },
  {
   "attachments": {},
   "cell_type": "markdown",
   "metadata": {},
   "source": [
    "- a) Perform any necessary data cleaning & engineering that renders your data useable (i.e. handling\n",
    "missing values, duplicates, classification, transformation...etc.)"
   ]
  },
  {
   "cell_type": "code",
   "execution_count": null,
   "metadata": {},
   "outputs": [],
   "source": []
  },
  {
   "attachments": {},
   "cell_type": "markdown",
   "metadata": {},
   "source": [
    "- b) Remove any songss that exceed 5 minutes"
   ]
  },
  {
   "cell_type": "code",
   "execution_count": null,
   "metadata": {},
   "outputs": [],
   "source": []
  },
  {
   "attachments": {},
   "cell_type": "markdown",
   "metadata": {},
   "source": [
    "- c) Display songss by J. Cole, Novo Amor and Anson Seabra"
   ]
  },
  {
   "cell_type": "code",
   "execution_count": null,
   "metadata": {},
   "outputs": [],
   "source": []
  },
  {
   "attachments": {},
   "cell_type": "markdown",
   "metadata": {},
   "source": [
    "- d) How many songss are included in every category?"
   ]
  },
  {
   "cell_type": "code",
   "execution_count": null,
   "metadata": {},
   "outputs": [],
   "source": []
  },
  {
   "attachments": {},
   "cell_type": "markdown",
   "metadata": {},
   "source": [
    "- e) Which artists dominated the charts?"
   ]
  },
  {
   "cell_type": "code",
   "execution_count": null,
   "metadata": {},
   "outputs": [],
   "source": []
  },
  {
   "attachments": {},
   "cell_type": "markdown",
   "metadata": {},
   "source": [
    "- f) What songss would be considered for the “Billboard Top 10 songss of the Year”?\n",
    "(mention their artists as well)"
   ]
  },
  {
   "cell_type": "code",
   "execution_count": null,
   "metadata": {},
   "outputs": [],
   "source": []
  },
  {
   "attachments": {},
   "cell_type": "markdown",
   "metadata": {},
   "source": [
    "- g) Recommend at least 5 songss that can be played at a party"
   ]
  },
  {
   "cell_type": "code",
   "execution_count": null,
   "metadata": {},
   "outputs": [],
   "source": []
  }
 ],
 "metadata": {
  "kernelspec": {
   "display_name": "Python 3",
   "language": "python",
   "name": "python3"
  },
  "language_info": {
   "codemirror_mode": {
    "name": "ipython",
    "version": 3
   },
   "file_extension": ".py",
   "mimetype": "text/x-python",
   "name": "python",
   "nbconvert_exporter": "python",
   "pygments_lexer": "ipython3",
   "version": "3.11.2"
  },
  "orig_nbformat": 4
 },
 "nbformat": 4,
 "nbformat_minor": 2
}
