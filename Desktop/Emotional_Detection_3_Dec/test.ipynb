{
 "cells": [
  {
   "cell_type": "code",
   "execution_count": 3,
   "metadata": {},
   "outputs": [
    {
     "data": {
      "text/html": [
       "<div>\n",
       "<style scoped>\n",
       "    .dataframe tbody tr th:only-of-type {\n",
       "        vertical-align: middle;\n",
       "    }\n",
       "\n",
       "    .dataframe tbody tr th {\n",
       "        vertical-align: top;\n",
       "    }\n",
       "\n",
       "    .dataframe thead th {\n",
       "        text-align: right;\n",
       "    }\n",
       "</style>\n",
       "<table border=\"1\" class=\"dataframe\">\n",
       "  <thead>\n",
       "    <tr style=\"text-align: right;\">\n",
       "      <th></th>\n",
       "      <th>text</th>\n",
       "      <th>emotion</th>\n",
       "    </tr>\n",
       "  </thead>\n",
       "  <tbody>\n",
       "    <tr>\n",
       "      <th>0</th>\n",
       "      <td>baad el fetar hagelko</td>\n",
       "      <td>neutral</td>\n",
       "    </tr>\n",
       "    <tr>\n",
       "      <th>1</th>\n",
       "      <td>hahahahahha helw elkalam dah</td>\n",
       "      <td>happiness</td>\n",
       "    </tr>\n",
       "    <tr>\n",
       "      <th>2</th>\n",
       "      <td>kan 3ayz yroh yl3ab fe pyramids bayen</td>\n",
       "      <td>neutral</td>\n",
       "    </tr>\n",
       "    <tr>\n",
       "      <th>3</th>\n",
       "      <td>dah elly ana asdi aleih harfyan</td>\n",
       "      <td>neutral</td>\n",
       "    </tr>\n",
       "    <tr>\n",
       "      <th>4</th>\n",
       "      <td>yaany ana aklmk bel arabi trohi enti katba eng...</td>\n",
       "      <td>angry</td>\n",
       "    </tr>\n",
       "    <tr>\n",
       "      <th>...</th>\n",
       "      <td>...</td>\n",
       "      <td>...</td>\n",
       "    </tr>\n",
       "    <tr>\n",
       "      <th>2110</th>\n",
       "      <td>eh el araf da ana mt3sab</td>\n",
       "      <td>NaN</td>\n",
       "    </tr>\n",
       "    <tr>\n",
       "      <th>2111</th>\n",
       "      <td>tab law omt w gbthalk..</td>\n",
       "      <td>neutral</td>\n",
       "    </tr>\n",
       "    <tr>\n",
       "      <th>2112</th>\n",
       "      <td>ana msh msda2 ana masdoom</td>\n",
       "      <td>surprise</td>\n",
       "    </tr>\n",
       "    <tr>\n",
       "      <th>2113</th>\n",
       "      <td>eh el mofg2at el 8areba de</td>\n",
       "      <td>surprise</td>\n",
       "    </tr>\n",
       "    <tr>\n",
       "      <th>2114</th>\n",
       "      <td>mashy :')</td>\n",
       "      <td>neutral</td>\n",
       "    </tr>\n",
       "  </tbody>\n",
       "</table>\n",
       "<p>2115 rows × 2 columns</p>\n",
       "</div>"
      ],
      "text/plain": [
       "                                                   text    emotion\n",
       "0                                 baad el fetar hagelko    neutral\n",
       "1                          hahahahahha helw elkalam dah  happiness\n",
       "2                 kan 3ayz yroh yl3ab fe pyramids bayen    neutral\n",
       "3                       dah elly ana asdi aleih harfyan    neutral\n",
       "4     yaany ana aklmk bel arabi trohi enti katba eng...      angry\n",
       "...                                                 ...        ...\n",
       "2110                           eh el araf da ana mt3sab        NaN\n",
       "2111                            tab law omt w gbthalk..    neutral\n",
       "2112                          ana msh msda2 ana masdoom   surprise\n",
       "2113                         eh el mofg2at el 8areba de   surprise\n",
       "2114                                          mashy :')    neutral\n",
       "\n",
       "[2115 rows x 2 columns]"
      ]
     },
     "execution_count": 3,
     "metadata": {},
     "output_type": "execute_result"
    }
   ],
   "source": [
    "import pandas as pd\n",
    "\n",
    "df = pd.read_csv('datasets\\merged_df.csv')\n",
    "\n",
    "df"
   ]
  },
  {
   "cell_type": "code",
   "execution_count": 4,
   "metadata": {},
   "outputs": [
    {
     "name": "stdout",
     "output_type": "stream",
     "text": [
      "text         0\n",
      "emotion    115\n",
      "dtype: int64\n"
     ]
    }
   ],
   "source": [
    "nan_values = df.isna().sum()\n",
    "\n",
    "print(nan_values)"
   ]
  },
  {
   "cell_type": "code",
   "execution_count": 5,
   "metadata": {},
   "outputs": [
    {
     "name": "stdout",
     "output_type": "stream",
     "text": [
      "                                                   text emotion\n",
      "1268                                   y3ny atfal2 wnta     NaN\n",
      "1269                   kan yom eswed yom ma 3reftk wlhi     NaN\n",
      "1282                            a ya 5ara mana brod ahu     NaN\n",
      "1294  haga enak teza3a2 kol ely meday2ak men shakhs ...     NaN\n",
      "1305                                        mashy bahsb     NaN\n",
      "...                                                 ...     ...\n",
      "2056                           ana msh tay2 ashofo laaa     NaN\n",
      "2059                      e7trem nafsak badal ma at3sab     NaN\n",
      "2095                                             mt3sab     NaN\n",
      "2103                                 eh el araf da w7sh     NaN\n",
      "2110                           eh el araf da ana mt3sab     NaN\n",
      "\n",
      "[115 rows x 2 columns]\n"
     ]
    }
   ],
   "source": [
    "# Assuming your dataset is a DataFrame named df\n",
    "nan_rows = df[df.isna().any(axis=1)]\n",
    "\n",
    "print(nan_rows)"
   ]
  },
  {
   "cell_type": "code",
   "execution_count": 6,
   "metadata": {},
   "outputs": [
    {
     "name": "stdout",
     "output_type": "stream",
     "text": [
      "                                                   text    emotion\n",
      "0                                 baad el fetar hagelko    neutral\n",
      "1                          hahahahahha helw elkalam dah  happiness\n",
      "2                 kan 3ayz yroh yl3ab fe pyramids bayen    neutral\n",
      "3                       dah elly ana asdi aleih harfyan    neutral\n",
      "4     yaany ana aklmk bel arabi trohi enti katba eng...      angry\n",
      "...                                                 ...        ...\n",
      "2110                           eh el araf da ana mt3sab      angry\n",
      "2111                            tab law omt w gbthalk..    neutral\n",
      "2112                          ana msh msda2 ana masdoom   surprise\n",
      "2113                         eh el mofg2at el 8areba de   surprise\n",
      "2114                                          mashy :')    neutral\n",
      "\n",
      "[2115 rows x 2 columns]\n"
     ]
    }
   ],
   "source": [
    "# Assuming your dataset is a DataFrame named df\n",
    "df['emotion'].fillna('angry', inplace=True)\n",
    "\n",
    "# Print the updated DataFrame\n",
    "print(df)"
   ]
  },
  {
   "cell_type": "code",
   "execution_count": null,
   "metadata": {},
   "outputs": [],
   "source": []
  }
 ],
 "metadata": {
  "kernelspec": {
   "display_name": "Python 3",
   "language": "python",
   "name": "python3"
  },
  "language_info": {
   "codemirror_mode": {
    "name": "ipython",
    "version": 3
   },
   "file_extension": ".py",
   "mimetype": "text/x-python",
   "name": "python",
   "nbconvert_exporter": "python",
   "pygments_lexer": "ipython3",
   "version": "3.11.2"
  }
 },
 "nbformat": 4,
 "nbformat_minor": 2
}
