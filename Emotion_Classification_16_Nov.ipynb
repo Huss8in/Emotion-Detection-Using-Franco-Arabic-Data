{
  "cells": [
    {
      "cell_type": "markdown",
      "metadata": {
        "id": "dIZNmqtjlBWa"
      },
      "source": [
        "## Imports\n"
      ]
    },
    {
      "cell_type": "code",
      "execution_count": 29,
      "metadata": {
        "id": "dpvwz_Ktkrsg"
      },
      "outputs": [],
      "source": [
        "# !pip install transformers"
      ]
    },
    {
      "cell_type": "code",
      "execution_count": 30,
      "metadata": {
        "colab": {
          "base_uri": "https://localhost:8080/"
        },
        "id": "SpLPLfw0lDtz",
        "outputId": "b80212ff-ff4b-4ffc-d9a3-2b9b3945308c"
      },
      "outputs": [
        {
          "name": "stderr",
          "output_type": "stream",
          "text": [
            "[nltk_data] Downloading package punkt to\n",
            "[nltk_data]     C:\\Users\\husse\\AppData\\Roaming\\nltk_data...\n",
            "[nltk_data]   Package punkt is already up-to-date!\n",
            "[nltk_data] Downloading package stopwords to\n",
            "[nltk_data]     C:\\Users\\husse\\AppData\\Roaming\\nltk_data...\n",
            "[nltk_data]   Package stopwords is already up-to-date!\n"
          ]
        }
      ],
      "source": [
        "import re\n",
        "import string\n",
        "import numpy as np\n",
        "import pandas as pd\n",
        "import seaborn as sns\n",
        "from matplotlib import pyplot as plt\n",
        "from collections import Counter\n",
        "\n",
        "from gensim.models import FastText\n",
        "\n",
        "import nltk\n",
        "nltk.download('punkt')\n",
        "nltk.download('stopwords')\n",
        "from nltk.corpus import stopwords\n",
        "from nltk.tokenize import word_tokenize\n",
        "from nltk.tokenize import word_tokenize\n",
        "from nltk.tokenize import WhitespaceTokenizer\n",
        "from sklearn.metrics import accuracy_score, classification_report\n",
        "\n",
        "import torch\n",
        "from transformers import AutoTokenizer, AutoModel\n",
        "from transformers import RobertaModel, RobertaTokenizer\n",
        "from concurrent.futures import ProcessPoolExecutor\n",
        "\n",
        "\n",
        "# sklearn\n",
        "from sklearn.model_selection import train_test_split\n",
        "from sklearn.preprocessing import LabelEncoder\n",
        "from sklearn.model_selection import train_test_split\n",
        "from sklearn.preprocessing import LabelEncoder\n",
        "from sklearn.metrics import classification_report\n",
        "\n",
        "# keras\n",
        "from keras.preprocessing.text import Tokenizer\n",
        "from keras.preprocessing.sequence import pad_sequences\n",
        "from keras.models import Sequential\n",
        "from keras.layers import Embedding, Bidirectional, LSTM, Dense, Conv1D, GlobalMaxPooling1D, Embedding, Flatten\n",
        "from keras.utils import to_categorical"
      ]
    },
    {
      "cell_type": "code",
      "execution_count": 31,
      "metadata": {
        "id": "m1wIkK_LZlpM"
      },
      "outputs": [
        {
          "data": {
            "text/html": [
              "<div>\n",
              "<style scoped>\n",
              "    .dataframe tbody tr th:only-of-type {\n",
              "        vertical-align: middle;\n",
              "    }\n",
              "\n",
              "    .dataframe tbody tr th {\n",
              "        vertical-align: top;\n",
              "    }\n",
              "\n",
              "    .dataframe thead th {\n",
              "        text-align: right;\n",
              "    }\n",
              "</style>\n",
              "<table border=\"1\" class=\"dataframe\">\n",
              "  <thead>\n",
              "    <tr style=\"text-align: right;\">\n",
              "      <th></th>\n",
              "      <th>Text</th>\n",
              "      <th>Emotion</th>\n",
              "    </tr>\n",
              "  </thead>\n",
              "  <tbody>\n",
              "    <tr>\n",
              "      <th>0</th>\n",
              "      <td>الاوليمبياد الجايه هكون لسه ف الكليه ..</td>\n",
              "      <td>none</td>\n",
              "    </tr>\n",
              "    <tr>\n",
              "      <th>1</th>\n",
              "      <td>عجز الموازنه وصل ل93.7 % من الناتج المحلي يعني...</td>\n",
              "      <td>anger</td>\n",
              "    </tr>\n",
              "    <tr>\n",
              "      <th>2</th>\n",
              "      <td>كتنا نيله ف حظنا الهباب xD</td>\n",
              "      <td>sadness</td>\n",
              "    </tr>\n",
              "    <tr>\n",
              "      <th>3</th>\n",
              "      <td>جميعنا نريد تحقيق اهدافنا لكن تونس تالقت في حر...</td>\n",
              "      <td>joy</td>\n",
              "    </tr>\n",
              "    <tr>\n",
              "      <th>4</th>\n",
              "      <td>الاوليمبياد نظامها مختلف .. ومواعيد المونديال ...</td>\n",
              "      <td>none</td>\n",
              "    </tr>\n",
              "    <tr>\n",
              "      <th>...</th>\n",
              "      <td>...</td>\n",
              "      <td>...</td>\n",
              "    </tr>\n",
              "    <tr>\n",
              "      <th>3995</th>\n",
              "      <td>فجاه العموم علماء فلك 😂  القمر العملاق</td>\n",
              "      <td>surprise</td>\n",
              "    </tr>\n",
              "    <tr>\n",
              "      <th>3996</th>\n",
              "      <td>: ياناس سفلوا فيها ودقوا خشمها بس بعيد عن هتك ...</td>\n",
              "      <td>anger</td>\n",
              "    </tr>\n",
              "    <tr>\n",
              "      <th>3997</th>\n",
              "      <td>لسه ملقتش اللي يحبني زي مابحبه !!</td>\n",
              "      <td>sadness</td>\n",
              "    </tr>\n",
              "    <tr>\n",
              "      <th>3998</th>\n",
              "      <td>0: يداعبُ عيناها سهراً يخالطه عشقاً فتبقي اسير...</td>\n",
              "      <td>love</td>\n",
              "    </tr>\n",
              "    <tr>\n",
              "      <th>3999</th>\n",
              "      <td>Rowaili هذا معاناتنا سواقين عليميه وناس متهوره...</td>\n",
              "      <td>anger</td>\n",
              "    </tr>\n",
              "  </tbody>\n",
              "</table>\n",
              "<p>4000 rows × 2 columns</p>\n",
              "</div>"
            ],
            "text/plain": [
              "                                                   Text   Emotion\n",
              "0               الاوليمبياد الجايه هكون لسه ف الكليه ..      none\n",
              "1     عجز الموازنه وصل ل93.7 % من الناتج المحلي يعني...     anger\n",
              "2                            كتنا نيله ف حظنا الهباب xD   sadness\n",
              "3     جميعنا نريد تحقيق اهدافنا لكن تونس تالقت في حر...       joy\n",
              "4     الاوليمبياد نظامها مختلف .. ومواعيد المونديال ...      none\n",
              "...                                                 ...       ...\n",
              "3995             فجاه العموم علماء فلك 😂  القمر العملاق  surprise\n",
              "3996  : ياناس سفلوا فيها ودقوا خشمها بس بعيد عن هتك ...     anger\n",
              "3997                  لسه ملقتش اللي يحبني زي مابحبه !!   sadness\n",
              "3998  0: يداعبُ عيناها سهراً يخالطه عشقاً فتبقي اسير...      love\n",
              "3999  Rowaili هذا معاناتنا سواقين عليميه وناس متهوره...     anger\n",
              "\n",
              "[4000 rows x 2 columns]"
            ]
          },
          "execution_count": 31,
          "metadata": {},
          "output_type": "execute_result"
        }
      ],
      "source": [
        "df = pd.read_csv('Emotional-Tone-Dataset.csv').head(4000)\n",
        "df = df.drop('ID', axis=1)\n",
        "df.columns = ['Text', 'Emotion']\n",
        "df"
      ]
    },
    {
      "cell_type": "markdown",
      "metadata": {
        "id": "htV84DzylG0j"
      },
      "source": [
        "## a) Step 1 : Preprocessing\n",
        "\n"
      ]
    },
    {
      "cell_type": "code",
      "execution_count": 32,
      "metadata": {
        "colab": {
          "base_uri": "https://localhost:8080/",
          "height": 423
        },
        "id": "p6TenIkgwlsJ",
        "outputId": "61562ab4-44af-4d75-bb1e-cbe7055f1873"
      },
      "outputs": [
        {
          "data": {
            "text/html": [
              "<div>\n",
              "<style scoped>\n",
              "    .dataframe tbody tr th:only-of-type {\n",
              "        vertical-align: middle;\n",
              "    }\n",
              "\n",
              "    .dataframe tbody tr th {\n",
              "        vertical-align: top;\n",
              "    }\n",
              "\n",
              "    .dataframe thead th {\n",
              "        text-align: right;\n",
              "    }\n",
              "</style>\n",
              "<table border=\"1\" class=\"dataframe\">\n",
              "  <thead>\n",
              "    <tr style=\"text-align: right;\">\n",
              "      <th></th>\n",
              "      <th>Text</th>\n",
              "      <th>Emotion</th>\n",
              "      <th>cleanedText</th>\n",
              "    </tr>\n",
              "  </thead>\n",
              "  <tbody>\n",
              "    <tr>\n",
              "      <th>0</th>\n",
              "      <td>الاوليمبياد الجايه هكون لسه ف الكليه ..</td>\n",
              "      <td>none</td>\n",
              "      <td>الاوليمبياد الجايه هكون لسه الكليه</td>\n",
              "    </tr>\n",
              "    <tr>\n",
              "      <th>1</th>\n",
              "      <td>عجز الموازنه وصل ل93.7 % من الناتج المحلي يعني...</td>\n",
              "      <td>anger</td>\n",
              "      <td>عجز الموازنه وصل الناتج المحلي يعني لسه اقل نف...</td>\n",
              "    </tr>\n",
              "    <tr>\n",
              "      <th>2</th>\n",
              "      <td>كتنا نيله ف حظنا الهباب xD</td>\n",
              "      <td>sadness</td>\n",
              "      <td>كتنا نيله حظنا الهباب</td>\n",
              "    </tr>\n",
              "    <tr>\n",
              "      <th>3</th>\n",
              "      <td>جميعنا نريد تحقيق اهدافنا لكن تونس تالقت في حر...</td>\n",
              "      <td>joy</td>\n",
              "      <td>جميعنا نريد تحقيق اهدافنا تونس تالقت حراسه المرمي</td>\n",
              "    </tr>\n",
              "    <tr>\n",
              "      <th>4</th>\n",
              "      <td>الاوليمبياد نظامها مختلف .. ومواعيد المونديال ...</td>\n",
              "      <td>none</td>\n",
              "      <td>الاوليمبياد نظامها مختلف ومواعيد المونديال مكا...</td>\n",
              "    </tr>\n",
              "    <tr>\n",
              "      <th>...</th>\n",
              "      <td>...</td>\n",
              "      <td>...</td>\n",
              "      <td>...</td>\n",
              "    </tr>\n",
              "    <tr>\n",
              "      <th>3995</th>\n",
              "      <td>فجاه العموم علماء فلك 😂  القمر العملاق</td>\n",
              "      <td>surprise</td>\n",
              "      <td>فجاه العموم علماء فلك القمر العملاق</td>\n",
              "    </tr>\n",
              "    <tr>\n",
              "      <th>3996</th>\n",
              "      <td>: ياناس سفلوا فيها ودقوا خشمها بس بعيد عن هتك ...</td>\n",
              "      <td>anger</td>\n",
              "      <td>ياناس سفلوا ودقوا خشمها بعيد هتك الاعراض ربي ي...</td>\n",
              "    </tr>\n",
              "    <tr>\n",
              "      <th>3997</th>\n",
              "      <td>لسه ملقتش اللي يحبني زي مابحبه !!</td>\n",
              "      <td>sadness</td>\n",
              "      <td>لسه ملقتش اللي يحبني زي مابحبه</td>\n",
              "    </tr>\n",
              "    <tr>\n",
              "      <th>3998</th>\n",
              "      <td>0: يداعبُ عيناها سهراً يخالطه عشقاً فتبقي اسير...</td>\n",
              "      <td>love</td>\n",
              "      <td>يداعب عيناها سهرا يخالطه عشقا فتبقي اسيره صمت ...</td>\n",
              "    </tr>\n",
              "    <tr>\n",
              "      <th>3999</th>\n",
              "      <td>Rowaili هذا معاناتنا سواقين عليميه وناس متهوره...</td>\n",
              "      <td>anger</td>\n",
              "      <td>معاناتنا سواقين عليميه وناس متهوره مشواير الري...</td>\n",
              "    </tr>\n",
              "  </tbody>\n",
              "</table>\n",
              "<p>4000 rows × 3 columns</p>\n",
              "</div>"
            ],
            "text/plain": [
              "                                                   Text   Emotion  \\\n",
              "0               الاوليمبياد الجايه هكون لسه ف الكليه ..      none   \n",
              "1     عجز الموازنه وصل ل93.7 % من الناتج المحلي يعني...     anger   \n",
              "2                            كتنا نيله ف حظنا الهباب xD   sadness   \n",
              "3     جميعنا نريد تحقيق اهدافنا لكن تونس تالقت في حر...       joy   \n",
              "4     الاوليمبياد نظامها مختلف .. ومواعيد المونديال ...      none   \n",
              "...                                                 ...       ...   \n",
              "3995             فجاه العموم علماء فلك 😂  القمر العملاق  surprise   \n",
              "3996  : ياناس سفلوا فيها ودقوا خشمها بس بعيد عن هتك ...     anger   \n",
              "3997                  لسه ملقتش اللي يحبني زي مابحبه !!   sadness   \n",
              "3998  0: يداعبُ عيناها سهراً يخالطه عشقاً فتبقي اسير...      love   \n",
              "3999  Rowaili هذا معاناتنا سواقين عليميه وناس متهوره...     anger   \n",
              "\n",
              "                                            cleanedText  \n",
              "0                    الاوليمبياد الجايه هكون لسه الكليه  \n",
              "1     عجز الموازنه وصل الناتج المحلي يعني لسه اقل نف...  \n",
              "2                                 كتنا نيله حظنا الهباب  \n",
              "3     جميعنا نريد تحقيق اهدافنا تونس تالقت حراسه المرمي  \n",
              "4     الاوليمبياد نظامها مختلف ومواعيد المونديال مكا...  \n",
              "...                                                 ...  \n",
              "3995                فجاه العموم علماء فلك القمر العملاق  \n",
              "3996  ياناس سفلوا ودقوا خشمها بعيد هتك الاعراض ربي ي...  \n",
              "3997                     لسه ملقتش اللي يحبني زي مابحبه  \n",
              "3998  يداعب عيناها سهرا يخالطه عشقا فتبقي اسيره صمت ...  \n",
              "3999  معاناتنا سواقين عليميه وناس متهوره مشواير الري...  \n",
              "\n",
              "[4000 rows x 3 columns]"
            ]
          },
          "execution_count": 32,
          "metadata": {},
          "output_type": "execute_result"
        }
      ],
      "source": [
        "# List of Arabic stopwords\n",
        "arabic_stopwords = stopwords.words('arabic')\n",
        "\n",
        "def clean_text(text):\n",
        "    # Remove any non Arabic unicode\n",
        "    text = re.sub(r'[^\\u0600-\\u06FF\\s]+', ' ', text)\n",
        "\n",
        "    # Remove username \"@handle\" from text\n",
        "    text = re.sub(r'@\\w+', '', text)\n",
        "\n",
        "    # Remove URL from text\n",
        "    text = re.sub(r'http\\S+', '', text)\n",
        "\n",
        "    # Remove punctuation, emoji, and smileys from text\n",
        "    text = re.sub(r'(?<=\\w)[^\\s\\w](?![^\\s\\w])', '', text)\n",
        "\n",
        "    # Remove escape codes like \\n, \\t, \\, etc from text\n",
        "    text = re.sub(r'(\\n|\\t|\\\"|\\')', '', text)\n",
        "\n",
        "    # Remove Arabic Diacritization (tashkeel) like fatha, damma, kasra, shaddah, ...\n",
        "    text = re.sub(r'[\\u064B-\\u0652]', '', text)\n",
        "\n",
        "    # Tokenize the text\n",
        "    words = word_tokenize(text)\n",
        "\n",
        "    # Remove Arabic stopwords\n",
        "    words = [word for word in words if word not in arabic_stopwords]\n",
        "\n",
        "    return ' '.join(words)\n",
        "\n",
        "# Apply the clean_text function to the 'text' column of your DataFrame\n",
        "df['cleanedText'] = df['Text'].apply(clean_text)\n",
        "df"
      ]
    },
    {
      "cell_type": "code",
      "execution_count": 33,
      "metadata": {
        "colab": {
          "base_uri": "https://localhost:8080/",
          "height": 410
        },
        "id": "1FX6WVDNw0nE",
        "outputId": "edfb0c0e-971f-4b01-a7f0-1abe2415c540"
      },
      "outputs": [
        {
          "data": {
            "image/png": "[encoded data removed]",
            "text/plain": [
              "<Figure size 600x400 with 1 Axes>"
            ]
          },
          "metadata": {},
          "output_type": "display_data"
        }
      ],
      "source": [
        "emotion_counts = df['Emotion'].value_counts()\n",
        "\n",
        "plt.figure(figsize=(6, 4))\n",
        "sns.barplot(x=emotion_counts.index , y=emotion_counts.values, palette=sns.color_palette('Dark2'))\n",
        "plt.title('Emotion Frequency')\n",
        "plt.xlabel('Frequency')\n",
        "plt.ylabel('Emotion')\n",
        "plt.show()"
      ]
    },
    {
      "cell_type": "markdown",
      "metadata": {
        "id": "rti9YzwWlb-F"
      },
      "source": [
        "## b) Step 2: The usage of Word Embedding\n",
        "+ AraBERT\n"
      ]
    },
    {
      "cell_type": "code",
      "execution_count": 34,
      "metadata": {
        "id": "MtuEAhTI0Veu"
      },
      "outputs": [],
      "source": [
        "# Load the pre-trained AraBERT tokenizer and model\n",
        "AraBERT_tokenizer = AutoTokenizer.from_pretrained(\"asafaya/bert-base-arabic\")\n",
        "AraBERT_model = AutoModel.from_pretrained(\"asafaya/bert-base-arabic\")\n"
      ]
    },
    {
      "cell_type": "code",
      "execution_count": 35,
      "metadata": {
        "id": "pB32YYrEN3e_"
      },
      "outputs": [],
      "source": [
        "# get_embeddings function to get embedding for each text\n",
        "def get_embeddings(text):\n",
        "    tokens = AraBERT_tokenizer(text, return_tensors=\"pt\")\n",
        "    with torch.no_grad():\n",
        "        outputs = AraBERT_model(**tokens)\n",
        "    return outputs.last_hidden_state.mean(dim=1).squeeze().detach().numpy()"
      ]
    },
    {
      "cell_type": "code",
      "execution_count": 36,
      "metadata": {
        "id": "gJvkJzF0lgoj"
      },
      "outputs": [],
      "source": [
        "# applying get_embeddings function of text after cleaning and create a new column arabert_embeddings (to save each )\n",
        "df['arabert_embeddings'] = df['cleanedText'].apply(get_embeddings)"
      ]
    },
    {
      "cell_type": "code",
      "execution_count": 37,
      "metadata": {
        "colab": {
          "base_uri": "https://localhost:8080/",
          "height": 423
        },
        "id": "R_2SAs8HS76p",
        "outputId": "a9cd6e32-ac32-4f65-95af-1574b288c942"
      },
      "outputs": [
        {
          "data": {
            "text/html": [
              "<div>\n",
              "<style scoped>\n",
              "    .dataframe tbody tr th:only-of-type {\n",
              "        vertical-align: middle;\n",
              "    }\n",
              "\n",
              "    .dataframe tbody tr th {\n",
              "        vertical-align: top;\n",
              "    }\n",
              "\n",
              "    .dataframe thead th {\n",
              "        text-align: right;\n",
              "    }\n",
              "</style>\n",
              "<table border=\"1\" class=\"dataframe\">\n",
              "  <thead>\n",
              "    <tr style=\"text-align: right;\">\n",
              "      <th></th>\n",
              "      <th>Text</th>\n",
              "      <th>Emotion</th>\n",
              "      <th>cleanedText</th>\n",
              "      <th>arabert_embeddings</th>\n",
              "    </tr>\n",
              "  </thead>\n",
              "  <tbody>\n",
              "    <tr>\n",
              "      <th>0</th>\n",
              "      <td>الاوليمبياد الجايه هكون لسه ف الكليه ..</td>\n",
              "      <td>none</td>\n",
              "      <td>الاوليمبياد الجايه هكون لسه الكليه</td>\n",
              "      <td>[0.23869413, -1.043507, -0.7847662, 0.30837333...</td>\n",
              "    </tr>\n",
              "    <tr>\n",
              "      <th>1</th>\n",
              "      <td>عجز الموازنه وصل ل93.7 % من الناتج المحلي يعني...</td>\n",
              "      <td>anger</td>\n",
              "      <td>عجز الموازنه وصل الناتج المحلي يعني لسه اقل نف...</td>\n",
              "      <td>[0.73096126, -0.8718648, -0.09341224, -0.41760...</td>\n",
              "    </tr>\n",
              "    <tr>\n",
              "      <th>2</th>\n",
              "      <td>كتنا نيله ف حظنا الهباب xD</td>\n",
              "      <td>sadness</td>\n",
              "      <td>كتنا نيله حظنا الهباب</td>\n",
              "      <td>[0.18826199, -0.7670665, -0.72406465, 0.006578...</td>\n",
              "    </tr>\n",
              "    <tr>\n",
              "      <th>3</th>\n",
              "      <td>جميعنا نريد تحقيق اهدافنا لكن تونس تالقت في حر...</td>\n",
              "      <td>joy</td>\n",
              "      <td>جميعنا نريد تحقيق اهدافنا تونس تالقت حراسه المرمي</td>\n",
              "      <td>[0.002712486, -0.4295182, -0.3291667, -0.24504...</td>\n",
              "    </tr>\n",
              "    <tr>\n",
              "      <th>4</th>\n",
              "      <td>الاوليمبياد نظامها مختلف .. ومواعيد المونديال ...</td>\n",
              "      <td>none</td>\n",
              "      <td>الاوليمبياد نظامها مختلف ومواعيد المونديال مكا...</td>\n",
              "      <td>[-0.21910532, -0.73481834, -0.3438832, 0.38882...</td>\n",
              "    </tr>\n",
              "    <tr>\n",
              "      <th>...</th>\n",
              "      <td>...</td>\n",
              "      <td>...</td>\n",
              "      <td>...</td>\n",
              "      <td>...</td>\n",
              "    </tr>\n",
              "    <tr>\n",
              "      <th>3995</th>\n",
              "      <td>فجاه العموم علماء فلك 😂  القمر العملاق</td>\n",
              "      <td>surprise</td>\n",
              "      <td>فجاه العموم علماء فلك القمر العملاق</td>\n",
              "      <td>[0.16720334, -0.93907005, -0.1658939, -0.47867...</td>\n",
              "    </tr>\n",
              "    <tr>\n",
              "      <th>3996</th>\n",
              "      <td>: ياناس سفلوا فيها ودقوا خشمها بس بعيد عن هتك ...</td>\n",
              "      <td>anger</td>\n",
              "      <td>ياناس سفلوا ودقوا خشمها بعيد هتك الاعراض ربي ي...</td>\n",
              "      <td>[0.4148718, -0.68318135, -0.46191502, 0.118134...</td>\n",
              "    </tr>\n",
              "    <tr>\n",
              "      <th>3997</th>\n",
              "      <td>لسه ملقتش اللي يحبني زي مابحبه !!</td>\n",
              "      <td>sadness</td>\n",
              "      <td>لسه ملقتش اللي يحبني زي مابحبه</td>\n",
              "      <td>[-0.29909483, -0.10008186, -0.7274346, 0.17791...</td>\n",
              "    </tr>\n",
              "    <tr>\n",
              "      <th>3998</th>\n",
              "      <td>0: يداعبُ عيناها سهراً يخالطه عشقاً فتبقي اسير...</td>\n",
              "      <td>love</td>\n",
              "      <td>يداعب عيناها سهرا يخالطه عشقا فتبقي اسيره صمت ...</td>\n",
              "      <td>[0.07729341, 0.42574477, -0.58074266, -0.58885...</td>\n",
              "    </tr>\n",
              "    <tr>\n",
              "      <th>3999</th>\n",
              "      <td>Rowaili هذا معاناتنا سواقين عليميه وناس متهوره...</td>\n",
              "      <td>anger</td>\n",
              "      <td>معاناتنا سواقين عليميه وناس متهوره مشواير الري...</td>\n",
              "      <td>[0.5590659, -0.07979678, -1.1870855, 0.9420138...</td>\n",
              "    </tr>\n",
              "  </tbody>\n",
              "</table>\n",
              "<p>4000 rows × 4 columns</p>\n",
              "</div>"
            ],
            "text/plain": [
              "                                                   Text   Emotion  \\\n",
              "0               الاوليمبياد الجايه هكون لسه ف الكليه ..      none   \n",
              "1     عجز الموازنه وصل ل93.7 % من الناتج المحلي يعني...     anger   \n",
              "2                            كتنا نيله ف حظنا الهباب xD   sadness   \n",
              "3     جميعنا نريد تحقيق اهدافنا لكن تونس تالقت في حر...       joy   \n",
              "4     الاوليمبياد نظامها مختلف .. ومواعيد المونديال ...      none   \n",
              "...                                                 ...       ...   \n",
              "3995             فجاه العموم علماء فلك 😂  القمر العملاق  surprise   \n",
              "3996  : ياناس سفلوا فيها ودقوا خشمها بس بعيد عن هتك ...     anger   \n",
              "3997                  لسه ملقتش اللي يحبني زي مابحبه !!   sadness   \n",
              "3998  0: يداعبُ عيناها سهراً يخالطه عشقاً فتبقي اسير...      love   \n",
              "3999  Rowaili هذا معاناتنا سواقين عليميه وناس متهوره...     anger   \n",
              "\n",
              "                                            cleanedText  \\\n",
              "0                    الاوليمبياد الجايه هكون لسه الكليه   \n",
              "1     عجز الموازنه وصل الناتج المحلي يعني لسه اقل نف...   \n",
              "2                                 كتنا نيله حظنا الهباب   \n",
              "3     جميعنا نريد تحقيق اهدافنا تونس تالقت حراسه المرمي   \n",
              "4     الاوليمبياد نظامها مختلف ومواعيد المونديال مكا...   \n",
              "...                                                 ...   \n",
              "3995                فجاه العموم علماء فلك القمر العملاق   \n",
              "3996  ياناس سفلوا ودقوا خشمها بعيد هتك الاعراض ربي ي...   \n",
              "3997                     لسه ملقتش اللي يحبني زي مابحبه   \n",
              "3998  يداعب عيناها سهرا يخالطه عشقا فتبقي اسيره صمت ...   \n",
              "3999  معاناتنا سواقين عليميه وناس متهوره مشواير الري...   \n",
              "\n",
              "                                     arabert_embeddings  \n",
              "0     [0.23869413, -1.043507, -0.7847662, 0.30837333...  \n",
              "1     [0.73096126, -0.8718648, -0.09341224, -0.41760...  \n",
              "2     [0.18826199, -0.7670665, -0.72406465, 0.006578...  \n",
              "3     [0.002712486, -0.4295182, -0.3291667, -0.24504...  \n",
              "4     [-0.21910532, -0.73481834, -0.3438832, 0.38882...  \n",
              "...                                                 ...  \n",
              "3995  [0.16720334, -0.93907005, -0.1658939, -0.47867...  \n",
              "3996  [0.4148718, -0.68318135, -0.46191502, 0.118134...  \n",
              "3997  [-0.29909483, -0.10008186, -0.7274346, 0.17791...  \n",
              "3998  [0.07729341, 0.42574477, -0.58074266, -0.58885...  \n",
              "3999  [0.5590659, -0.07979678, -1.1870855, 0.9420138...  \n",
              "\n",
              "[4000 rows x 4 columns]"
            ]
          },
          "execution_count": 37,
          "metadata": {},
          "output_type": "execute_result"
        }
      ],
      "source": [
        "df"
      ]
    },
    {
      "cell_type": "markdown",
      "metadata": {
        "id": "Bo0tjtRxlgxb"
      },
      "source": [
        "## c) Step 3: Models Development"
      ]
    },
    {
      "cell_type": "code",
      "execution_count": 38,
      "metadata": {
        "id": "hVuZRGe_WPQv"
      },
      "outputs": [],
      "source": [
        "X = df['arabert_embeddings'].astype(str).tolist()\n",
        "y = df['Emotion']\n",
        "\n",
        "label_encoder = LabelEncoder()\n",
        "y = label_encoder.fit_transform(y)\n",
        "\n",
        "tokenizer = Tokenizer()\n",
        "tokenizer.fit_on_texts(X)\n",
        "X_sequences = tokenizer.texts_to_sequences(X)\n",
        "\n",
        "X_padded = pad_sequences(X_sequences)\n",
        "\n",
        "X_train, X_test, y_train, y_test = train_test_split(X_padded, y, test_size=0.2, random_state=42)"
      ]
    },
    {
      "cell_type": "code",
      "execution_count": 39,
      "metadata": {
        "colab": {
          "base_uri": "https://localhost:8080/"
        },
        "id": "bE2vY3aFliNX",
        "outputId": "01c4f91b-e4ba-4d1b-b901-5b2b769caadb"
      },
      "outputs": [
        {
          "name": "stdout",
          "output_type": "stream",
          "text": [
            "Epoch 1/10\n",
            "90/90 [==============================] - 160s 2s/step - loss: 1.7116 - accuracy: 0.3962 - val_loss: 1.4306 - val_accuracy: 0.5281\n",
            "Epoch 2/10\n",
            "90/90 [==============================] - 462s 5s/step - loss: 0.1426 - accuracy: 0.9774 - val_loss: 1.4796 - val_accuracy: 0.4625\n",
            "Epoch 3/10\n",
            "90/90 [==============================] - 186s 2s/step - loss: 0.0124 - accuracy: 0.9986 - val_loss: 1.4836 - val_accuracy: 0.5188\n",
            "Epoch 4/10\n",
            "90/90 [==============================] - 167s 2s/step - loss: 0.0097 - accuracy: 0.9986 - val_loss: 1.4512 - val_accuracy: 0.5125\n",
            "Epoch 5/10\n",
            "90/90 [==============================] - 163s 2s/step - loss: 0.0078 - accuracy: 0.9983 - val_loss: 1.4598 - val_accuracy: 0.5125\n",
            "Epoch 6/10\n",
            "90/90 [==============================] - 147s 2s/step - loss: 0.0042 - accuracy: 0.9986 - val_loss: 1.4265 - val_accuracy: 0.5344\n",
            "Epoch 7/10\n",
            "90/90 [==============================] - 131s 1s/step - loss: 0.0060 - accuracy: 0.9986 - val_loss: 1.4201 - val_accuracy: 0.5188\n",
            "Epoch 8/10\n",
            "90/90 [==============================] - 130s 1s/step - loss: 0.0059 - accuracy: 0.9983 - val_loss: 1.4582 - val_accuracy: 0.5312\n",
            "Epoch 9/10\n",
            "90/90 [==============================] - 132s 1s/step - loss: 0.0061 - accuracy: 0.9990 - val_loss: 1.4318 - val_accuracy: 0.5312\n",
            "Epoch 10/10\n",
            "90/90 [==============================] - 133s 1s/step - loss: 0.0033 - accuracy: 0.9986 - val_loss: 1.4668 - val_accuracy: 0.5250\n",
            "25/25 [==============================] - 0s 10ms/step\n",
            "Deep Learning Model Accuracy: 0.55125\n",
            "Deep Learning Model Classification Report:\n",
            "               precision    recall  f1-score   support\n",
            "\n",
            "           0       0.67      0.58      0.63       142\n",
            "           1       0.82      0.53      0.64        85\n",
            "           2       0.34      0.56      0.42        88\n",
            "           3       0.69      0.59      0.64       107\n",
            "           4       0.57      0.74      0.65       127\n",
            "           5       0.35      0.29      0.31        94\n",
            "           6       0.37      0.36      0.36        76\n",
            "           7       0.75      0.65      0.70        81\n",
            "\n",
            "    accuracy                           0.55       800\n",
            "   macro avg       0.57      0.54      0.54       800\n",
            "weighted avg       0.58      0.55      0.56       800\n",
            "\n"
          ]
        }
      ],
      "source": [
        "model = Sequential()\n",
        "model.add(Embedding(input_dim=len(tokenizer.word_index) + 1, output_dim=50, input_length=X_padded.shape[1]))\n",
        "model.add(Flatten())\n",
        "model.add(Dense(64, activation='relu'))\n",
        "model.add(Dense(8, activation='softmax'))\n",
        "\n",
        "model.compile(optimizer='adam', loss='sparse_categorical_crossentropy', metrics=['accuracy'])\n",
        "\n",
        "model.fit(X_train, y_train, epochs=10, batch_size=32, validation_split=0.1)\n",
        "\n",
        "y_pred = np.argmax(model.predict(X_test), axis=1)\n",
        "accuracy = accuracy_score(y_test, y_pred)\n",
        "print(f\"Deep Learning Model Accuracy: {accuracy}\")\n",
        "print(\"Deep Learning Model Classification Report:\\n\", classification_report(y_test, y_pred))"
      ]
    },
    {
      "cell_type": "code",
      "execution_count": 40,
      "metadata": {
        "colab": {
          "base_uri": "https://localhost:8080/"
        },
        "id": "wMk0a2vMWlbE",
        "outputId": "195c019a-2817-4e45-930e-649fc7f2c78f"
      },
      "outputs": [],
      "source": [
        "# model_lstm = Sequential()\n",
        "# model_lstm.add(Embedding(input_dim=len(tokenizer.word_index) + 1, output_dim=50, input_length=X_padded.shape[1]))\n",
        "# model_lstm.add(Bidirectional(LSTM(64, return_sequences=True)))\n",
        "# model_lstm.add(Bidirectional(LSTM(32)))\n",
        "# model_lstm.add(Dense(64, activation='relu'))\n",
        "# model_lstm.add(Dense(8, activation='softmax'))\n",
        "\n",
        "# model_lstm.compile(optimizer='adam', loss='sparse_categorical_crossentropy', metrics=['accuracy'])\n",
        "\n",
        "# model_lstm.fit(X_train, y_train, epochs=10, batch_size=32, validation_split=0.1)\n",
        "\n",
        "# y_pred_lstm = np.argmax(model_lstm.predict(X_test), axis=1)\n",
        "# accuracy_lstm = accuracy_score(y_test, y_pred_lstm)\n",
        "# print(f\"LSTM Model Accuracy: {accuracy_lstm}\")\n",
        "# print(\"LSTM Model Classification Report:\\n\", classification_report(y_test, y_pred_lstm))"
      ]
    },
    {
      "cell_type": "code",
      "execution_count": 41,
      "metadata": {
        "id": "yTQEWuzdVWbq"
      },
      "outputs": [
        {
          "name": "stdout",
          "output_type": "stream",
          "text": [
            "Epoch 1/10\n",
            "90/90 [==============================] - 149s 2s/step - loss: 2.0759 - accuracy: 0.1458 - val_loss: 2.0804 - val_accuracy: 0.1281\n",
            "Epoch 2/10\n",
            "90/90 [==============================] - 162s 2s/step - loss: 1.9262 - accuracy: 0.4674 - val_loss: 2.0715 - val_accuracy: 0.1219\n",
            "Epoch 3/10\n",
            "90/90 [==============================] - 152s 2s/step - loss: 0.6406 - accuracy: 0.9507 - val_loss: 2.0911 - val_accuracy: 0.1219\n",
            "Epoch 4/10\n",
            "90/90 [==============================] - 152s 2s/step - loss: 0.0154 - accuracy: 0.9983 - val_loss: 2.1734 - val_accuracy: 0.1156\n",
            "Epoch 5/10\n",
            "90/90 [==============================] - 151s 2s/step - loss: 0.0088 - accuracy: 0.9986 - val_loss: 2.1992 - val_accuracy: 0.1469\n",
            "Epoch 6/10\n",
            "90/90 [==============================] - 144s 2s/step - loss: 0.0084 - accuracy: 0.9990 - val_loss: 2.2288 - val_accuracy: 0.1156\n",
            "Epoch 7/10\n",
            "90/90 [==============================] - 140s 2s/step - loss: 0.0091 - accuracy: 0.9986 - val_loss: 2.2509 - val_accuracy: 0.1469\n",
            "Epoch 8/10\n",
            "90/90 [==============================] - 164s 2s/step - loss: 0.0091 - accuracy: 0.9986 - val_loss: 2.2568 - val_accuracy: 0.0969\n",
            "Epoch 9/10\n",
            "90/90 [==============================] - 298s 3s/step - loss: 0.0088 - accuracy: 0.9986 - val_loss: 2.2335 - val_accuracy: 0.1625\n",
            "Epoch 10/10\n",
            "90/90 [==============================] - 180s 2s/step - loss: 0.0081 - accuracy: 0.9983 - val_loss: 2.3670 - val_accuracy: 0.1500\n",
            "25/25 [==============================] - 1s 35ms/step\n",
            "CNN Model Accuracy: 0.14125\n",
            "CNN Model Classification Report:\n",
            "               precision    recall  f1-score   support\n",
            "\n",
            "           0       0.00      0.00      0.00       142\n",
            "           1       1.00      0.02      0.05        85\n",
            "           2       1.00      0.01      0.02        88\n",
            "           3       0.13      0.98      0.24       107\n",
            "           4       1.00      0.02      0.03       127\n",
            "           5       1.00      0.02      0.04        94\n",
            "           6       0.00      0.00      0.00        76\n",
            "           7       0.11      0.01      0.02        81\n",
            "\n",
            "    accuracy                           0.14       800\n",
            "   macro avg       0.53      0.13      0.05       800\n",
            "weighted avg       0.52      0.14      0.05       800\n",
            "\n"
          ]
        },
        {
          "name": "stderr",
          "output_type": "stream",
          "text": [
            "c:\\Users\\husse\\AppData\\Local\\Programs\\Python\\Python311\\Lib\\site-packages\\sklearn\\metrics\\_classification.py:1344: UndefinedMetricWarning: Precision and F-score are ill-defined and being set to 0.0 in labels with no predicted samples. Use `zero_division` parameter to control this behavior.\n",
            "  _warn_prf(average, modifier, msg_start, len(result))\n",
            "c:\\Users\\husse\\AppData\\Local\\Programs\\Python\\Python311\\Lib\\site-packages\\sklearn\\metrics\\_classification.py:1344: UndefinedMetricWarning: Precision and F-score are ill-defined and being set to 0.0 in labels with no predicted samples. Use `zero_division` parameter to control this behavior.\n",
            "  _warn_prf(average, modifier, msg_start, len(result))\n",
            "c:\\Users\\husse\\AppData\\Local\\Programs\\Python\\Python311\\Lib\\site-packages\\sklearn\\metrics\\_classification.py:1344: UndefinedMetricWarning: Precision and F-score are ill-defined and being set to 0.0 in labels with no predicted samples. Use `zero_division` parameter to control this behavior.\n",
            "  _warn_prf(average, modifier, msg_start, len(result))\n"
          ]
        }
      ],
      "source": [
        "model_cnn = Sequential()\n",
        "model_cnn.add(Embedding(input_dim=len(tokenizer.word_index) + 1, output_dim=50, input_length=X_padded.shape[1]))\n",
        "model_cnn.add(Conv1D(128, 5, activation='relu'))\n",
        "model_cnn.add(GlobalMaxPooling1D())\n",
        "model_cnn.add(Dense(64, activation='relu'))\n",
        "model_cnn.add(Dense(8, activation='softmax'))\n",
        "\n",
        "model_cnn.compile(optimizer='adam', loss='sparse_categorical_crossentropy', metrics=['accuracy'])\n",
        "\n",
        "model_cnn.fit(X_train, y_train, epochs=10, batch_size=32, validation_split=0.1)\n",
        "\n",
        "y_pred_cnn = np.argmax(model_cnn.predict(X_test), axis=1)\n",
        "accuracy_cnn = accuracy_score(y_test, y_pred_cnn)\n",
        "print(f\"CNN Model Accuracy: {accuracy_cnn}\")\n",
        "print(\"CNN Model Classification Report:\\n\", classification_report(y_test, y_pred_cnn))"
      ]
    },
    {
      "cell_type": "markdown",
      "metadata": {
        "id": "mW1ZnJOPlmxw"
      },
      "source": [
        "## d) Step 4: Testing Models"
      ]
    },
    {
      "cell_type": "code",
      "execution_count": 46,
      "metadata": {
        "id": "fwzfOEiclnr-"
      },
      "outputs": [
        {
          "ename": "ModuleNotFoundError",
          "evalue": "No module named 'arabic_reshaper'",
          "output_type": "error",
          "traceback": [
            "\u001b[1;31m---------------------------------------------------------------------------\u001b[0m",
            "\u001b[1;31mModuleNotFoundError\u001b[0m                       Traceback (most recent call last)",
            "\u001b[1;32mc:\\Users\\husse\\Desktop\\Emotion_Classification_16_Nov\\Emotion_Classification_16_Nov.ipynb Cell 19\u001b[0m line \u001b[0;36m1\n\u001b[1;32m----> <a href='vscode-notebook-cell:/c%3A/Users/husse/Desktop/Emotion_Classification_16_Nov/Emotion_Classification_16_Nov.ipynb#X24sZmlsZQ%3D%3D?line=0'>1</a>\u001b[0m \u001b[39mfrom\u001b[39;00m \u001b[39marabic_reshaper\u001b[39;00m \u001b[39mimport\u001b[39;00m arabic_reshaper\n\u001b[0;32m      <a href='vscode-notebook-cell:/c%3A/Users/husse/Desktop/Emotion_Classification_16_Nov/Emotion_Classification_16_Nov.ipynb#X24sZmlsZQ%3D%3D?line=1'>2</a>\u001b[0m \u001b[39mfrom\u001b[39;00m \u001b[39mbidi\u001b[39;00m\u001b[39m.\u001b[39;00m\u001b[39malgorithm\u001b[39;00m \u001b[39mimport\u001b[39;00m get_display\n\u001b[0;32m      <a href='vscode-notebook-cell:/c%3A/Users/husse/Desktop/Emotion_Classification_16_Nov/Emotion_Classification_16_Nov.ipynb#X24sZmlsZQ%3D%3D?line=3'>4</a>\u001b[0m new_statement \u001b[39m=\u001b[39m \u001b[39m\"\u001b[39m\u001b[39mانا سعيد\u001b[39m\u001b[39m\"\u001b[39m\n",
            "\u001b[1;31mModuleNotFoundError\u001b[0m: No module named 'arabic_reshaper'"
          ]
        }
      ],
      "source": []
    }
  ],
  "metadata": {
    "colab": {
      "provenance": []
    },
    "kernelspec": {
      "display_name": "Python 3",
      "name": "python3"
    },
    "language_info": {
      "codemirror_mode": {
        "name": "ipython",
        "version": 3
      },
      "file_extension": ".py",
      "mimetype": "text/x-python",
      "name": "python",
      "nbconvert_exporter": "python",
      "pygments_lexer": "ipython3",
      "version": "3.11.2"
    }
  },
  "nbformat": 4,
  "nbformat_minor": 0
}
